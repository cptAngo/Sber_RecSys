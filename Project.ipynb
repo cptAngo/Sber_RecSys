{
 "cells": [
  {
   "cell_type": "code",
   "execution_count": 1,
   "metadata": {
    "colab": {
     "base_uri": "https://localhost:8080/",
     "height": 34
    },
    "colab_type": "code",
    "executionInfo": {
     "elapsed": 928,
     "status": "ok",
     "timestamp": 1593702856888,
     "user": {
      "displayName": "Алексей Андреевич Тышко",
      "photoUrl": "",
      "userId": "10250502674400601502"
     },
     "user_tz": -180
    },
    "id": "aM3SQYXVk2ZX",
    "outputId": "507de211-e5c3-4d20-dfc7-10dfec44c1a8"
   },
   "outputs": [],
   "source": [
    "import pandas as pd\n",
    "import numpy as np\n",
    "from sklearn.neighbors import NearestNeighbors\n",
    "from tqdm import tqdm\n",
    "import lightgbm as lgb\n",
    "import pickle as pkl\n",
    "from pandas.api.types import CategoricalDtype\n",
    "import os\n",
    "\n",
    "import gc\n",
    "gc.enable()\n",
    "\n",
    "# from google.colab import drive\n",
    "# drive.mount('/content/drive')"
   ]
  },
  {
   "cell_type": "code",
   "execution_count": null,
   "metadata": {
    "colab": {},
    "colab_type": "code",
    "id": "8OK5AwwBoRl0"
   },
   "outputs": [],
   "source": [
    "user_region = pd.read_csv('/content/drive/My Drive/Colab Notebooks/Sber_RecSys/Archive/user_region.csv')\n",
    "user_age = pd.read_csv('/content/drive/My Drive/Colab Notebooks/Sber_RecSys/Archive/user_age.csv', usecols=['row', 'data'])\n",
    "item_subclass = pd.read_csv('/content/drive/My Drive/Colab Notebooks/Sber_RecSys/Archive/item_subclass.csv')\n",
    "item_price = pd.read_csv('/content/drive/My Drive/Colab Notebooks/Sber_RecSys/Archive/item_price.csv', usecols=['row', 'data'])\n",
    "item_asset = pd.read_csv('/content/drive/My Drive/Colab Notebooks/Sber_RecSys/Archive/item_asset.csv', usecols=['row', 'data'])\n",
    "interactions = pd.read_csv('/content/drive/My Drive/Colab Notebooks/Sber_RecSys/Archive/interactions.csv')"
   ]
  },
  {
   "cell_type": "code",
   "execution_count": null,
   "metadata": {
    "colab": {},
    "colab_type": "code",
    "id": "7FByOd7d25vC"
   },
   "outputs": [],
   "source": [
    "assert user_region.isnull().values.any() == False\n",
    "assert user_age.isnull().values.any() == False\n",
    "assert item_subclass.isnull().values.any() == False\n",
    "assert item_price.isnull().values.any() == False\n",
    "assert item_asset.isnull().values.any() == False\n",
    "assert interactions.isnull().values.any() == False"
   ]
  },
  {
   "cell_type": "markdown",
   "metadata": {
    "colab_type": "text",
    "id": "lrGUL41ACjVH"
   },
   "source": [
    "# Предобработка"
   ]
  },
  {
   "cell_type": "markdown",
   "metadata": {
    "colab_type": "text",
    "id": "oGnrO6-VuFH_"
   },
   "source": [
    "### Собираем датасет для продуктов"
   ]
  },
  {
   "cell_type": "code",
   "execution_count": null,
   "metadata": {
    "colab": {
     "base_uri": "https://localhost:8080/",
     "height": 34
    },
    "colab_type": "code",
    "executionInfo": {
     "elapsed": 1044,
     "status": "ok",
     "timestamp": 1593627821821,
     "user": {
      "displayName": "Алексей Андреевич Тышко",
      "photoUrl": "",
      "userId": "10250502674400601502"
     },
     "user_tz": -180
    },
    "id": "RzP4-smYzz69",
    "outputId": "a36cab7d-f8d3-4f82-dcb9-f8f5ced79acc"
   },
   "outputs": [
    {
     "data": {
      "text/plain": [
       "{1.0}"
      ]
     },
     "execution_count": 4,
     "metadata": {
      "tags": []
     },
     "output_type": "execute_result"
    }
   ],
   "source": [
    "set(item_subclass.data)"
   ]
  },
  {
   "cell_type": "code",
   "execution_count": null,
   "metadata": {
    "colab": {},
    "colab_type": "code",
    "id": "f_f8Qrj4zzEH"
   },
   "outputs": [],
   "source": [
    "item_subclass.drop(columns=['data'], inplace=True)"
   ]
  },
  {
   "cell_type": "code",
   "execution_count": null,
   "metadata": {
    "colab": {
     "base_uri": "https://localhost:8080/",
     "height": 204
    },
    "colab_type": "code",
    "executionInfo": {
     "elapsed": 531,
     "status": "ok",
     "timestamp": 1593627822124,
     "user": {
      "displayName": "Алексей Андреевич Тышко",
      "photoUrl": "",
      "userId": "10250502674400601502"
     },
     "user_tz": -180
    },
    "id": "GqiRttiuy_sn",
    "outputId": "790b1e03-ff1f-4b0e-8df4-ef251e9cadae"
   },
   "outputs": [
    {
     "data": {
      "text/html": [
       "<div>\n",
       "<style scoped>\n",
       "    .dataframe tbody tr th:only-of-type {\n",
       "        vertical-align: middle;\n",
       "    }\n",
       "\n",
       "    .dataframe tbody tr th {\n",
       "        vertical-align: top;\n",
       "    }\n",
       "\n",
       "    .dataframe thead th {\n",
       "        text-align: right;\n",
       "    }\n",
       "</style>\n",
       "<table border=\"1\" class=\"dataframe\">\n",
       "  <thead>\n",
       "    <tr style=\"text-align: right;\">\n",
       "      <th></th>\n",
       "      <th>row</th>\n",
       "      <th>product_category</th>\n",
       "    </tr>\n",
       "  </thead>\n",
       "  <tbody>\n",
       "    <tr>\n",
       "      <th>0</th>\n",
       "      <td>0</td>\n",
       "      <td>679</td>\n",
       "    </tr>\n",
       "    <tr>\n",
       "      <th>1</th>\n",
       "      <td>1</td>\n",
       "      <td>1376</td>\n",
       "    </tr>\n",
       "    <tr>\n",
       "      <th>2</th>\n",
       "      <td>2</td>\n",
       "      <td>1495</td>\n",
       "    </tr>\n",
       "    <tr>\n",
       "      <th>3</th>\n",
       "      <td>3</td>\n",
       "      <td>502</td>\n",
       "    </tr>\n",
       "    <tr>\n",
       "      <th>4</th>\n",
       "      <td>4</td>\n",
       "      <td>502</td>\n",
       "    </tr>\n",
       "  </tbody>\n",
       "</table>\n",
       "</div>"
      ],
      "text/plain": [
       "   row product_category\n",
       "0    0              679\n",
       "1    1             1376\n",
       "2    2             1495\n",
       "3    3              502\n",
       "4    4              502"
      ]
     },
     "execution_count": 6,
     "metadata": {
      "tags": []
     },
     "output_type": "execute_result"
    }
   ],
   "source": [
    "item_subclass.rename(columns={'col':'product_category'}, inplace=True)\n",
    "item_subclass['product_category'] = item_subclass['product_category'].astype('category')\n",
    "item_subclass.head()"
   ]
  },
  {
   "cell_type": "code",
   "execution_count": null,
   "metadata": {
    "colab": {
     "base_uri": "https://localhost:8080/",
     "height": 204
    },
    "colab_type": "code",
    "executionInfo": {
     "elapsed": 651,
     "status": "ok",
     "timestamp": 1593627822390,
     "user": {
      "displayName": "Алексей Андреевич Тышко",
      "photoUrl": "",
      "userId": "10250502674400601502"
     },
     "user_tz": -180
    },
    "id": "na1N5-kJpN_0",
    "outputId": "4e9a8790-ce1d-4c5e-f2e4-f2891b6068fb"
   },
   "outputs": [
    {
     "data": {
      "text/html": [
       "<div>\n",
       "<style scoped>\n",
       "    .dataframe tbody tr th:only-of-type {\n",
       "        vertical-align: middle;\n",
       "    }\n",
       "\n",
       "    .dataframe tbody tr th {\n",
       "        vertical-align: top;\n",
       "    }\n",
       "\n",
       "    .dataframe thead th {\n",
       "        text-align: right;\n",
       "    }\n",
       "</style>\n",
       "<table border=\"1\" class=\"dataframe\">\n",
       "  <thead>\n",
       "    <tr style=\"text-align: right;\">\n",
       "      <th></th>\n",
       "      <th>row</th>\n",
       "      <th>price</th>\n",
       "    </tr>\n",
       "  </thead>\n",
       "  <tbody>\n",
       "    <tr>\n",
       "      <th>0</th>\n",
       "      <td>0</td>\n",
       "      <td>0.012911</td>\n",
       "    </tr>\n",
       "    <tr>\n",
       "      <th>1</th>\n",
       "      <td>1</td>\n",
       "      <td>0.005211</td>\n",
       "    </tr>\n",
       "    <tr>\n",
       "      <th>2</th>\n",
       "      <td>2</td>\n",
       "      <td>0.004131</td>\n",
       "    </tr>\n",
       "    <tr>\n",
       "      <th>3</th>\n",
       "      <td>3</td>\n",
       "      <td>0.003521</td>\n",
       "    </tr>\n",
       "    <tr>\n",
       "      <th>4</th>\n",
       "      <td>4</td>\n",
       "      <td>0.003521</td>\n",
       "    </tr>\n",
       "  </tbody>\n",
       "</table>\n",
       "</div>"
      ],
      "text/plain": [
       "   row     price\n",
       "0    0  0.012911\n",
       "1    1  0.005211\n",
       "2    2  0.004131\n",
       "3    3  0.003521\n",
       "4    4  0.003521"
      ]
     },
     "execution_count": 7,
     "metadata": {
      "tags": []
     },
     "output_type": "execute_result"
    }
   ],
   "source": [
    "item_price.rename(columns={'data':'price'}, inplace=True)\n",
    "item_price.head()"
   ]
  },
  {
   "cell_type": "code",
   "execution_count": null,
   "metadata": {
    "colab": {
     "base_uri": "https://localhost:8080/",
     "height": 204
    },
    "colab_type": "code",
    "executionInfo": {
     "elapsed": 659,
     "status": "ok",
     "timestamp": 1593627822705,
     "user": {
      "displayName": "Алексей Андреевич Тышко",
      "photoUrl": "",
      "userId": "10250502674400601502"
     },
     "user_tz": -180
    },
    "id": "-nOqQvfIp6dO",
    "outputId": "5c4718bc-164b-4889-f8a7-6b8bcd48df9b"
   },
   "outputs": [
    {
     "data": {
      "text/html": [
       "<div>\n",
       "<style scoped>\n",
       "    .dataframe tbody tr th:only-of-type {\n",
       "        vertical-align: middle;\n",
       "    }\n",
       "\n",
       "    .dataframe tbody tr th {\n",
       "        vertical-align: top;\n",
       "    }\n",
       "\n",
       "    .dataframe thead th {\n",
       "        text-align: right;\n",
       "    }\n",
       "</style>\n",
       "<table border=\"1\" class=\"dataframe\">\n",
       "  <thead>\n",
       "    <tr style=\"text-align: right;\">\n",
       "      <th></th>\n",
       "      <th>row</th>\n",
       "      <th>asset</th>\n",
       "    </tr>\n",
       "  </thead>\n",
       "  <tbody>\n",
       "    <tr>\n",
       "      <th>0</th>\n",
       "      <td>0</td>\n",
       "      <td>0.009497</td>\n",
       "    </tr>\n",
       "    <tr>\n",
       "      <th>1</th>\n",
       "      <td>1</td>\n",
       "      <td>0.004226</td>\n",
       "    </tr>\n",
       "    <tr>\n",
       "      <th>2</th>\n",
       "      <td>2</td>\n",
       "      <td>0.003371</td>\n",
       "    </tr>\n",
       "    <tr>\n",
       "      <th>3</th>\n",
       "      <td>3</td>\n",
       "      <td>0.002991</td>\n",
       "    </tr>\n",
       "    <tr>\n",
       "      <th>4</th>\n",
       "      <td>4</td>\n",
       "      <td>0.002991</td>\n",
       "    </tr>\n",
       "  </tbody>\n",
       "</table>\n",
       "</div>"
      ],
      "text/plain": [
       "   row     asset\n",
       "0    0  0.009497\n",
       "1    1  0.004226\n",
       "2    2  0.003371\n",
       "3    3  0.002991\n",
       "4    4  0.002991"
      ]
     },
     "execution_count": 8,
     "metadata": {
      "tags": []
     },
     "output_type": "execute_result"
    }
   ],
   "source": [
    "item_asset.rename(columns={'data':'asset'}, inplace=True)\n",
    "item_asset.head()"
   ]
  },
  {
   "cell_type": "code",
   "execution_count": null,
   "metadata": {
    "colab": {
     "base_uri": "https://localhost:8080/",
     "height": 68
    },
    "colab_type": "code",
    "executionInfo": {
     "elapsed": 678,
     "status": "ok",
     "timestamp": 1593627823016,
     "user": {
      "displayName": "Алексей Андреевич Тышко",
      "photoUrl": "",
      "userId": "10250502674400601502"
     },
     "user_tz": -180
    },
    "id": "sbn5Zsqa3_w6",
    "outputId": "2127ef8f-ab5b-4b05-87e6-b291705d7620"
   },
   "outputs": [
    {
     "name": "stdout",
     "output_type": "stream",
     "text": [
      "(18495, 2)\n",
      "(18493, 2)\n",
      "(18490, 2)\n"
     ]
    }
   ],
   "source": [
    "print(item_subclass.shape)\n",
    "print(item_price.shape)\n",
    "print(item_asset.shape)"
   ]
  },
  {
   "cell_type": "code",
   "execution_count": null,
   "metadata": {
    "colab": {},
    "colab_type": "code",
    "id": "WLcAg3jU1VHH"
   },
   "outputs": [],
   "source": [
    "prod_feats = item_subclass.merge(item_price, how='outer', on='row').merge(item_asset, how='outer', on='row')\n",
    "prod_feats.rename(columns={'row':'product_id'}, inplace=True)"
   ]
  },
  {
   "cell_type": "code",
   "execution_count": null,
   "metadata": {
    "colab": {
     "base_uri": "https://localhost:8080/",
     "height": 204
    },
    "colab_type": "code",
    "executionInfo": {
     "elapsed": 607,
     "status": "ok",
     "timestamp": 1593627823573,
     "user": {
      "displayName": "Алексей Андреевич Тышко",
      "photoUrl": "",
      "userId": "10250502674400601502"
     },
     "user_tz": -180
    },
    "id": "ivDHtYEs1h4x",
    "outputId": "5be869fb-4848-47f6-f406-66ae1d790407"
   },
   "outputs": [
    {
     "data": {
      "text/html": [
       "<div>\n",
       "<style scoped>\n",
       "    .dataframe tbody tr th:only-of-type {\n",
       "        vertical-align: middle;\n",
       "    }\n",
       "\n",
       "    .dataframe tbody tr th {\n",
       "        vertical-align: top;\n",
       "    }\n",
       "\n",
       "    .dataframe thead th {\n",
       "        text-align: right;\n",
       "    }\n",
       "</style>\n",
       "<table border=\"1\" class=\"dataframe\">\n",
       "  <thead>\n",
       "    <tr style=\"text-align: right;\">\n",
       "      <th></th>\n",
       "      <th>product_id</th>\n",
       "      <th>product_category</th>\n",
       "      <th>price</th>\n",
       "      <th>asset</th>\n",
       "    </tr>\n",
       "  </thead>\n",
       "  <tbody>\n",
       "    <tr>\n",
       "      <th>0</th>\n",
       "      <td>0</td>\n",
       "      <td>679</td>\n",
       "      <td>0.012911</td>\n",
       "      <td>0.009497</td>\n",
       "    </tr>\n",
       "    <tr>\n",
       "      <th>1</th>\n",
       "      <td>1</td>\n",
       "      <td>1376</td>\n",
       "      <td>0.005211</td>\n",
       "      <td>0.004226</td>\n",
       "    </tr>\n",
       "    <tr>\n",
       "      <th>2</th>\n",
       "      <td>2</td>\n",
       "      <td>1495</td>\n",
       "      <td>0.004131</td>\n",
       "      <td>0.003371</td>\n",
       "    </tr>\n",
       "    <tr>\n",
       "      <th>3</th>\n",
       "      <td>3</td>\n",
       "      <td>502</td>\n",
       "      <td>0.003521</td>\n",
       "      <td>0.002991</td>\n",
       "    </tr>\n",
       "    <tr>\n",
       "      <th>4</th>\n",
       "      <td>4</td>\n",
       "      <td>502</td>\n",
       "      <td>0.003521</td>\n",
       "      <td>0.002991</td>\n",
       "    </tr>\n",
       "  </tbody>\n",
       "</table>\n",
       "</div>"
      ],
      "text/plain": [
       "   product_id product_category     price     asset\n",
       "0           0              679  0.012911  0.009497\n",
       "1           1             1376  0.005211  0.004226\n",
       "2           2             1495  0.004131  0.003371\n",
       "3           3              502  0.003521  0.002991\n",
       "4           4              502  0.003521  0.002991"
      ]
     },
     "execution_count": 11,
     "metadata": {
      "tags": []
     },
     "output_type": "execute_result"
    }
   ],
   "source": [
    "prod_feats.head()"
   ]
  },
  {
   "cell_type": "code",
   "execution_count": null,
   "metadata": {
    "colab": {},
    "colab_type": "code",
    "id": "ytKMqTnaC9Y7"
   },
   "outputs": [],
   "source": [
    "prod_feats_without_nan = prod_feats[(~prod_feats['price'].isna()) & (~prod_feats['asset'].isna())]"
   ]
  },
  {
   "cell_type": "code",
   "execution_count": null,
   "metadata": {
    "colab": {},
    "colab_type": "code",
    "id": "YiPBh4cLDYow"
   },
   "outputs": [],
   "source": [
    "N_N = 5"
   ]
  },
  {
   "cell_type": "code",
   "execution_count": null,
   "metadata": {
    "colab": {},
    "colab_type": "code",
    "id": "q5kHVPgX5Qt6"
   },
   "outputs": [],
   "source": [
    "for ind in prod_feats[prod_feats['price'].isna()].index:\n",
    "    categ = prod_feats.loc[ind, 'product_category']\n",
    "    asset = prod_feats.loc[ind, 'asset']\n",
    "    \n",
    "    temp_df = prod_feats_without_nan[(prod_feats_without_nan['product_category'] == categ)]\n",
    "    \n",
    "    n_neighbors = min(N_N, temp_df.shape[0])\n",
    "    \n",
    "    nn = NearestNeighbors(n_neighbors)\n",
    "    nn.fit(temp_df['asset'].values.reshape(-1,1))\n",
    "    \n",
    "    _, neighbors_inds = nn.kneighbors(np.reshape([asset], (1, 1)))\n",
    "    \n",
    "    prod_feats.loc[ind, 'price'] = temp_df.values[neighbors_inds, -2].mean()"
   ]
  },
  {
   "cell_type": "code",
   "execution_count": null,
   "metadata": {
    "colab": {},
    "colab_type": "code",
    "id": "qEZ5NPXN55ku"
   },
   "outputs": [],
   "source": [
    "for ind in prod_feats[prod_feats['asset'].isna()].index:\n",
    "    categ = prod_feats.loc[ind, 'product_category']\n",
    "    price = prod_feats.loc[ind, 'price']\n",
    "    \n",
    "    temp_df = prod_feats_without_nan[(prod_feats_without_nan['product_category'] == categ)]\n",
    "    \n",
    "    n_neighbors = min(N_N, temp_df.shape[0])\n",
    "    \n",
    "    nn = NearestNeighbors(n_neighbors)\n",
    "    nn.fit(temp_df['price'].values.reshape(-1,1))\n",
    "    \n",
    "    _, neighbors_inds = nn.kneighbors(np.reshape([price], (1, 1)))\n",
    "    \n",
    "    prod_feats.loc[ind, 'asset'] = temp_df.values[neighbors_inds, -1].mean()"
   ]
  },
  {
   "cell_type": "markdown",
   "metadata": {
    "colab_type": "text",
    "id": "ZlubMXJWF3Ca"
   },
   "source": [
    "### Собираем датасет для пользователей"
   ]
  },
  {
   "cell_type": "code",
   "execution_count": null,
   "metadata": {
    "colab": {
     "base_uri": "https://localhost:8080/",
     "height": 34
    },
    "colab_type": "code",
    "executionInfo": {
     "elapsed": 855,
     "status": "ok",
     "timestamp": 1593627826410,
     "user": {
      "displayName": "Алексей Андреевич Тышко",
      "photoUrl": "",
      "userId": "10250502674400601502"
     },
     "user_tz": -180
    },
    "id": "ku8Y-Sq58Wmm",
    "outputId": "8d823f0c-17d1-4120-917d-ae683a2d2044"
   },
   "outputs": [
    {
     "data": {
      "text/plain": [
       "{1.0}"
      ]
     },
     "execution_count": 16,
     "metadata": {
      "tags": []
     },
     "output_type": "execute_result"
    }
   ],
   "source": [
    "set(user_region.data)"
   ]
  },
  {
   "cell_type": "code",
   "execution_count": null,
   "metadata": {
    "colab": {},
    "colab_type": "code",
    "id": "HNSjcjzJGfiW"
   },
   "outputs": [],
   "source": [
    "user_region.drop(columns=['data'], inplace=True)"
   ]
  },
  {
   "cell_type": "code",
   "execution_count": null,
   "metadata": {
    "colab": {
     "base_uri": "https://localhost:8080/",
     "height": 204
    },
    "colab_type": "code",
    "executionInfo": {
     "elapsed": 453,
     "status": "ok",
     "timestamp": 1593627826822,
     "user": {
      "displayName": "Алексей Андреевич Тышко",
      "photoUrl": "",
      "userId": "10250502674400601502"
     },
     "user_tz": -180
    },
    "id": "5dPneD_3G3BD",
    "outputId": "939ba44f-b434-420c-c993-34b6378480ee"
   },
   "outputs": [
    {
     "data": {
      "text/html": [
       "<div>\n",
       "<style scoped>\n",
       "    .dataframe tbody tr th:only-of-type {\n",
       "        vertical-align: middle;\n",
       "    }\n",
       "\n",
       "    .dataframe tbody tr th {\n",
       "        vertical-align: top;\n",
       "    }\n",
       "\n",
       "    .dataframe thead th {\n",
       "        text-align: right;\n",
       "    }\n",
       "</style>\n",
       "<table border=\"1\" class=\"dataframe\">\n",
       "  <thead>\n",
       "    <tr style=\"text-align: right;\">\n",
       "      <th></th>\n",
       "      <th>row</th>\n",
       "      <th>user_region</th>\n",
       "    </tr>\n",
       "  </thead>\n",
       "  <tbody>\n",
       "    <tr>\n",
       "      <th>0</th>\n",
       "      <td>0</td>\n",
       "      <td>6</td>\n",
       "    </tr>\n",
       "    <tr>\n",
       "      <th>1</th>\n",
       "      <td>0</td>\n",
       "      <td>0</td>\n",
       "    </tr>\n",
       "    <tr>\n",
       "      <th>2</th>\n",
       "      <td>1</td>\n",
       "      <td>7</td>\n",
       "    </tr>\n",
       "    <tr>\n",
       "      <th>3</th>\n",
       "      <td>1</td>\n",
       "      <td>0</td>\n",
       "    </tr>\n",
       "    <tr>\n",
       "      <th>4</th>\n",
       "      <td>2</td>\n",
       "      <td>5</td>\n",
       "    </tr>\n",
       "  </tbody>\n",
       "</table>\n",
       "</div>"
      ],
      "text/plain": [
       "   row  user_region\n",
       "0    0            6\n",
       "1    0            0\n",
       "2    1            7\n",
       "3    1            0\n",
       "4    2            5"
      ]
     },
     "execution_count": 18,
     "metadata": {
      "tags": []
     },
     "output_type": "execute_result"
    }
   ],
   "source": [
    "user_region.rename(columns={'col':'user_region'}, inplace=True)\n",
    "user_region.head()"
   ]
  },
  {
   "cell_type": "code",
   "execution_count": null,
   "metadata": {
    "colab": {
     "base_uri": "https://localhost:8080/",
     "height": 34
    },
    "colab_type": "code",
    "executionInfo": {
     "elapsed": 681,
     "status": "ok",
     "timestamp": 1593627827686,
     "user": {
      "displayName": "Алексей Андреевич Тышко",
      "photoUrl": "",
      "userId": "10250502674400601502"
     },
     "user_tz": -180
    },
    "id": "7VWMf5QrJqxd",
    "outputId": "9cfe291c-2df7-4f17-8efc-f20578904a7c"
   },
   "outputs": [
    {
     "data": {
      "text/plain": [
       "{1.0}"
      ]
     },
     "execution_count": 19,
     "metadata": {
      "tags": []
     },
     "output_type": "execute_result"
    }
   ],
   "source": [
    "set(user_age.data)"
   ]
  },
  {
   "cell_type": "code",
   "execution_count": null,
   "metadata": {
    "colab": {},
    "colab_type": "code",
    "id": "f3HsLTVEJ7M1"
   },
   "outputs": [],
   "source": [
    "user_age.drop(columns=['data'], inplace=True)"
   ]
  },
  {
   "cell_type": "code",
   "execution_count": null,
   "metadata": {
    "colab": {
     "base_uri": "https://localhost:8080/",
     "height": 204
    },
    "colab_type": "code",
    "executionInfo": {
     "elapsed": 515,
     "status": "ok",
     "timestamp": 1593627830665,
     "user": {
      "displayName": "Алексей Андреевич Тышко",
      "photoUrl": "",
      "userId": "10250502674400601502"
     },
     "user_tz": -180
    },
    "id": "_7396aaNJ48W",
    "outputId": "b7cb17f3-e787-485e-fd52-6c5812af0b6f"
   },
   "outputs": [
    {
     "data": {
      "text/html": [
       "<div>\n",
       "<style scoped>\n",
       "    .dataframe tbody tr th:only-of-type {\n",
       "        vertical-align: middle;\n",
       "    }\n",
       "\n",
       "    .dataframe tbody tr th {\n",
       "        vertical-align: top;\n",
       "    }\n",
       "\n",
       "    .dataframe thead th {\n",
       "        text-align: right;\n",
       "    }\n",
       "</style>\n",
       "<table border=\"1\" class=\"dataframe\">\n",
       "  <thead>\n",
       "    <tr style=\"text-align: right;\">\n",
       "      <th></th>\n",
       "      <th>row</th>\n",
       "    </tr>\n",
       "  </thead>\n",
       "  <tbody>\n",
       "    <tr>\n",
       "      <th>0</th>\n",
       "      <td>2</td>\n",
       "    </tr>\n",
       "    <tr>\n",
       "      <th>1</th>\n",
       "      <td>7</td>\n",
       "    </tr>\n",
       "    <tr>\n",
       "      <th>2</th>\n",
       "      <td>8</td>\n",
       "    </tr>\n",
       "    <tr>\n",
       "      <th>3</th>\n",
       "      <td>10</td>\n",
       "    </tr>\n",
       "    <tr>\n",
       "      <th>4</th>\n",
       "      <td>12</td>\n",
       "    </tr>\n",
       "  </tbody>\n",
       "</table>\n",
       "</div>"
      ],
      "text/plain": [
       "   row\n",
       "0    2\n",
       "1    7\n",
       "2    8\n",
       "3   10\n",
       "4   12"
      ]
     },
     "execution_count": 21,
     "metadata": {
      "tags": []
     },
     "output_type": "execute_result"
    }
   ],
   "source": [
    "user_age.head()"
   ]
  },
  {
   "cell_type": "code",
   "execution_count": null,
   "metadata": {
    "colab": {
     "base_uri": "https://localhost:8080/",
     "height": 51
    },
    "colab_type": "code",
    "executionInfo": {
     "elapsed": 531,
     "status": "ok",
     "timestamp": 1593627831061,
     "user": {
      "displayName": "Алексей Андреевич Тышко",
      "photoUrl": "",
      "userId": "10250502674400601502"
     },
     "user_tz": -180
    },
    "id": "jnuYnfwTHIl5",
    "outputId": "e367d86a-efc8-442c-ba63-7d57fcc37576"
   },
   "outputs": [
    {
     "name": "stdout",
     "output_type": "stream",
     "text": [
      "(26609, 2)\n",
      "(30317, 1)\n"
     ]
    }
   ],
   "source": [
    "print(user_region.shape)\n",
    "print(user_age.shape)"
   ]
  },
  {
   "cell_type": "code",
   "execution_count": null,
   "metadata": {
    "colab": {},
    "colab_type": "code",
    "id": "2vRiRs9KHVl3"
   },
   "outputs": [],
   "source": [
    "user_feats = user_age.merge(user_region, how='outer', on='row')\n",
    "user_feats.rename(columns={'row':'user_id'}, inplace=True)"
   ]
  },
  {
   "cell_type": "code",
   "execution_count": null,
   "metadata": {
    "colab": {},
    "colab_type": "code",
    "id": "U-IxaWKhHkJm"
   },
   "outputs": [],
   "source": [
    "user_feats['user_region'].fillna(1, inplace=True)"
   ]
  },
  {
   "cell_type": "code",
   "execution_count": null,
   "metadata": {
    "colab": {},
    "colab_type": "code",
    "id": "F2gj54v2HlN-"
   },
   "outputs": [],
   "source": [
    "user_feats['user_region'] = user_feats['user_region'].astype('category')"
   ]
  },
  {
   "cell_type": "code",
   "execution_count": null,
   "metadata": {
    "colab": {
     "base_uri": "https://localhost:8080/",
     "height": 204
    },
    "colab_type": "code",
    "executionInfo": {
     "elapsed": 527,
     "status": "ok",
     "timestamp": 1593627834337,
     "user": {
      "displayName": "Алексей Андреевич Тышко",
      "photoUrl": "",
      "userId": "10250502674400601502"
     },
     "user_tz": -180
    },
    "id": "Xr969RntNUXe",
    "outputId": "2280cca6-2aef-46b0-ec80-3cdc3bea8c59"
   },
   "outputs": [
    {
     "data": {
      "text/html": [
       "<div>\n",
       "<style scoped>\n",
       "    .dataframe tbody tr th:only-of-type {\n",
       "        vertical-align: middle;\n",
       "    }\n",
       "\n",
       "    .dataframe tbody tr th {\n",
       "        vertical-align: top;\n",
       "    }\n",
       "\n",
       "    .dataframe thead th {\n",
       "        text-align: right;\n",
       "    }\n",
       "</style>\n",
       "<table border=\"1\" class=\"dataframe\">\n",
       "  <thead>\n",
       "    <tr style=\"text-align: right;\">\n",
       "      <th></th>\n",
       "      <th>user_id</th>\n",
       "      <th>user_region</th>\n",
       "    </tr>\n",
       "  </thead>\n",
       "  <tbody>\n",
       "    <tr>\n",
       "      <th>0</th>\n",
       "      <td>2</td>\n",
       "      <td>5.0</td>\n",
       "    </tr>\n",
       "    <tr>\n",
       "      <th>1</th>\n",
       "      <td>7</td>\n",
       "      <td>6.0</td>\n",
       "    </tr>\n",
       "    <tr>\n",
       "      <th>2</th>\n",
       "      <td>8</td>\n",
       "      <td>1.0</td>\n",
       "    </tr>\n",
       "    <tr>\n",
       "      <th>3</th>\n",
       "      <td>10</td>\n",
       "      <td>7.0</td>\n",
       "    </tr>\n",
       "    <tr>\n",
       "      <th>4</th>\n",
       "      <td>12</td>\n",
       "      <td>7.0</td>\n",
       "    </tr>\n",
       "  </tbody>\n",
       "</table>\n",
       "</div>"
      ],
      "text/plain": [
       "   user_id user_region\n",
       "0        2         5.0\n",
       "1        7         6.0\n",
       "2        8         1.0\n",
       "3       10         7.0\n",
       "4       12         7.0"
      ]
     },
     "execution_count": 26,
     "metadata": {
      "tags": []
     },
     "output_type": "execute_result"
    }
   ],
   "source": [
    "user_feats.head()"
   ]
  },
  {
   "cell_type": "markdown",
   "metadata": {
    "colab_type": "text",
    "id": "smWvIxbQEG94"
   },
   "source": [
    "### Выделяем обучающие, валидационные и тестовые заказы"
   ]
  },
  {
   "cell_type": "code",
   "execution_count": null,
   "metadata": {
    "colab": {
     "base_uri": "https://localhost:8080/",
     "height": 34
    },
    "colab_type": "code",
    "executionInfo": {
     "elapsed": 962,
     "status": "ok",
     "timestamp": 1593627837362,
     "user": {
      "displayName": "Алексей Андреевич Тышко",
      "photoUrl": "",
      "userId": "10250502674400601502"
     },
     "user_tz": -180
    },
    "id": "bs1kABcEPj1A",
    "outputId": "a96d091f-7f2a-4af8-8ac4-4fb6a729f3a5"
   },
   "outputs": [
    {
     "data": {
      "text/plain": [
       "{1.0}"
      ]
     },
     "execution_count": 27,
     "metadata": {
      "tags": []
     },
     "output_type": "execute_result"
    }
   ],
   "source": [
    "set(interactions.data)"
   ]
  },
  {
   "cell_type": "code",
   "execution_count": null,
   "metadata": {
    "colab": {},
    "colab_type": "code",
    "id": "ry8V337TPeUt"
   },
   "outputs": [],
   "source": [
    "interactions.rename(columns={'row':'user_id', 'col':'product_id', 'data':'label'}, inplace=True)"
   ]
  },
  {
   "cell_type": "code",
   "execution_count": null,
   "metadata": {
    "colab": {},
    "colab_type": "code",
    "id": "gs2sDxZVmhqd"
   },
   "outputs": [],
   "source": [
    "np.random.seed(432)\n",
    "train_indexes = np.random.choice(interactions.index, int(len(interactions.index)*0.7), replace=False)\n",
    "val_train_indexes = list(filter(lambda x: x not in train_indexes, interactions.index))"
   ]
  },
  {
   "cell_type": "code",
   "execution_count": null,
   "metadata": {
    "colab": {},
    "colab_type": "code",
    "id": "QUuR-0h6m6Qe"
   },
   "outputs": [],
   "source": [
    "val_indexes = val_train_indexes[:int(len(val_train_indexes)*0.5)]\n",
    "test_indexes = val_train_indexes[int(len(val_train_indexes)*0.5):]"
   ]
  },
  {
   "cell_type": "code",
   "execution_count": null,
   "metadata": {
    "colab": {},
    "colab_type": "code",
    "id": "pqzX1bGiHpcj"
   },
   "outputs": [],
   "source": [
    "interactions_train = interactions.loc[train_indexes].reset_index(drop=True)\n",
    "interactions_val = interactions.loc[val_indexes].reset_index(drop=True)\n",
    "interactions_test = interactions.loc[test_indexes].reset_index(drop=True)"
   ]
  },
  {
   "cell_type": "code",
   "execution_count": null,
   "metadata": {
    "colab": {
     "base_uri": "https://localhost:8080/",
     "height": 204
    },
    "colab_type": "code",
    "executionInfo": {
     "elapsed": 705,
     "status": "ok",
     "timestamp": 1593628328219,
     "user": {
      "displayName": "Алексей Андреевич Тышко",
      "photoUrl": "",
      "userId": "10250502674400601502"
     },
     "user_tz": -180
    },
    "id": "PVfvsDhKHiYT",
    "outputId": "af01e981-6fa3-49c3-cb9e-fbbb83aae37c"
   },
   "outputs": [
    {
     "data": {
      "text/html": [
       "<div>\n",
       "<style scoped>\n",
       "    .dataframe tbody tr th:only-of-type {\n",
       "        vertical-align: middle;\n",
       "    }\n",
       "\n",
       "    .dataframe tbody tr th {\n",
       "        vertical-align: top;\n",
       "    }\n",
       "\n",
       "    .dataframe thead th {\n",
       "        text-align: right;\n",
       "    }\n",
       "</style>\n",
       "<table border=\"1\" class=\"dataframe\">\n",
       "  <thead>\n",
       "    <tr style=\"text-align: right;\">\n",
       "      <th></th>\n",
       "      <th>user_id</th>\n",
       "      <th>product_id</th>\n",
       "      <th>label</th>\n",
       "    </tr>\n",
       "  </thead>\n",
       "  <tbody>\n",
       "    <tr>\n",
       "      <th>0</th>\n",
       "      <td>9248</td>\n",
       "      <td>4635</td>\n",
       "      <td>1.0</td>\n",
       "    </tr>\n",
       "    <tr>\n",
       "      <th>1</th>\n",
       "      <td>10279</td>\n",
       "      <td>1675</td>\n",
       "      <td>1.0</td>\n",
       "    </tr>\n",
       "    <tr>\n",
       "      <th>2</th>\n",
       "      <td>9716</td>\n",
       "      <td>6639</td>\n",
       "      <td>1.0</td>\n",
       "    </tr>\n",
       "    <tr>\n",
       "      <th>3</th>\n",
       "      <td>7964</td>\n",
       "      <td>14718</td>\n",
       "      <td>1.0</td>\n",
       "    </tr>\n",
       "    <tr>\n",
       "      <th>4</th>\n",
       "      <td>1692</td>\n",
       "      <td>8956</td>\n",
       "      <td>1.0</td>\n",
       "    </tr>\n",
       "  </tbody>\n",
       "</table>\n",
       "</div>"
      ],
      "text/plain": [
       "   user_id  product_id  label\n",
       "0     9248        4635    1.0\n",
       "1    10279        1675    1.0\n",
       "2     9716        6639    1.0\n",
       "3     7964       14718    1.0\n",
       "4     1692        8956    1.0"
      ]
     },
     "execution_count": 45,
     "metadata": {
      "tags": []
     },
     "output_type": "execute_result"
    }
   ],
   "source": [
    "interactions_train.head()"
   ]
  },
  {
   "cell_type": "markdown",
   "metadata": {
    "colab_type": "text",
    "id": "SHAi113ZO5YM"
   },
   "source": [
    "## Генерируем признаки"
   ]
  },
  {
   "cell_type": "code",
   "execution_count": null,
   "metadata": {
    "colab": {},
    "colab_type": "code",
    "id": "ETY6cJ4pPV0u"
   },
   "outputs": [],
   "source": [
    "user_prod_train = interactions_train.merge(user_feats, how='inner', on='user_id').merge(prod_feats, how='inner', on='product_id')"
   ]
  },
  {
   "cell_type": "code",
   "execution_count": null,
   "metadata": {
    "colab": {
     "base_uri": "https://localhost:8080/",
     "height": 204
    },
    "colab_type": "code",
    "executionInfo": {
     "elapsed": 455,
     "status": "ok",
     "timestamp": 1593628373442,
     "user": {
      "displayName": "Алексей Андреевич Тышко",
      "photoUrl": "",
      "userId": "10250502674400601502"
     },
     "user_tz": -180
    },
    "id": "smhmSnE6QNJ2",
    "outputId": "0fe3cf32-6495-49b5-bc41-ba4c1e754e50"
   },
   "outputs": [
    {
     "data": {
      "text/html": [
       "<div>\n",
       "<style scoped>\n",
       "    .dataframe tbody tr th:only-of-type {\n",
       "        vertical-align: middle;\n",
       "    }\n",
       "\n",
       "    .dataframe tbody tr th {\n",
       "        vertical-align: top;\n",
       "    }\n",
       "\n",
       "    .dataframe thead th {\n",
       "        text-align: right;\n",
       "    }\n",
       "</style>\n",
       "<table border=\"1\" class=\"dataframe\">\n",
       "  <thead>\n",
       "    <tr style=\"text-align: right;\">\n",
       "      <th></th>\n",
       "      <th>user_id</th>\n",
       "      <th>product_id</th>\n",
       "      <th>label</th>\n",
       "      <th>user_region</th>\n",
       "      <th>product_category</th>\n",
       "      <th>price</th>\n",
       "      <th>asset</th>\n",
       "    </tr>\n",
       "  </thead>\n",
       "  <tbody>\n",
       "    <tr>\n",
       "      <th>0</th>\n",
       "      <td>9248</td>\n",
       "      <td>4635</td>\n",
       "      <td>1.0</td>\n",
       "      <td>7.0</td>\n",
       "      <td>1536</td>\n",
       "      <td>0.000986</td>\n",
       "      <td>0.000902</td>\n",
       "    </tr>\n",
       "    <tr>\n",
       "      <th>1</th>\n",
       "      <td>5514</td>\n",
       "      <td>4635</td>\n",
       "      <td>1.0</td>\n",
       "      <td>6.0</td>\n",
       "      <td>1536</td>\n",
       "      <td>0.000986</td>\n",
       "      <td>0.000902</td>\n",
       "    </tr>\n",
       "    <tr>\n",
       "      <th>2</th>\n",
       "      <td>5640</td>\n",
       "      <td>4635</td>\n",
       "      <td>1.0</td>\n",
       "      <td>7.0</td>\n",
       "      <td>1536</td>\n",
       "      <td>0.000986</td>\n",
       "      <td>0.000902</td>\n",
       "    </tr>\n",
       "    <tr>\n",
       "      <th>3</th>\n",
       "      <td>8187</td>\n",
       "      <td>4635</td>\n",
       "      <td>1.0</td>\n",
       "      <td>3.0</td>\n",
       "      <td>1536</td>\n",
       "      <td>0.000986</td>\n",
       "      <td>0.000902</td>\n",
       "    </tr>\n",
       "    <tr>\n",
       "      <th>4</th>\n",
       "      <td>22065</td>\n",
       "      <td>4635</td>\n",
       "      <td>1.0</td>\n",
       "      <td>6.0</td>\n",
       "      <td>1536</td>\n",
       "      <td>0.000986</td>\n",
       "      <td>0.000902</td>\n",
       "    </tr>\n",
       "  </tbody>\n",
       "</table>\n",
       "</div>"
      ],
      "text/plain": [
       "   user_id  product_id  label user_region product_category     price     asset\n",
       "0     9248        4635    1.0         7.0             1536  0.000986  0.000902\n",
       "1     5514        4635    1.0         6.0             1536  0.000986  0.000902\n",
       "2     5640        4635    1.0         7.0             1536  0.000986  0.000902\n",
       "3     8187        4635    1.0         3.0             1536  0.000986  0.000902\n",
       "4    22065        4635    1.0         6.0             1536  0.000986  0.000902"
      ]
     },
     "execution_count": 48,
     "metadata": {
      "tags": []
     },
     "output_type": "execute_result"
    }
   ],
   "source": [
    "user_prod_train.head()"
   ]
  },
  {
   "cell_type": "markdown",
   "metadata": {
    "colab_type": "text",
    "id": "UGImUyxlO9WU"
   },
   "source": [
    "### Пользователь"
   ]
  },
  {
   "cell_type": "markdown",
   "metadata": {},
   "source": [
    "Полное число покупок пользователя"
   ]
  },
  {
   "cell_type": "code",
   "execution_count": null,
   "metadata": {},
   "outputs": [],
   "source": [
    "user_total_buy = user_prod_train.groupby('user_id')['user_id'].count().to_frame('user_total_buy')\n",
    "user_total_buy = user_total_buy.reset_index()\n",
    "user_total_buy.head()"
   ]
  },
  {
   "cell_type": "markdown",
   "metadata": {},
   "source": [
    "Число различных категорий, которые покупал пользователь"
   ]
  },
  {
   "cell_type": "code",
   "execution_count": null,
   "metadata": {
    "colab": {
     "base_uri": "https://localhost:8080/",
     "height": 204
    },
    "colab_type": "code",
    "executionInfo": {
     "elapsed": 684,
     "status": "ok",
     "timestamp": 1593628595718,
     "user": {
      "displayName": "Алексей Андреевич Тышко",
      "photoUrl": "",
      "userId": "10250502674400601502"
     },
     "user_tz": -180
    },
    "id": "QT6CffRsBi2O",
    "outputId": "3b966f69-d9b6-4ded-906a-ea59c0d4536a"
   },
   "outputs": [
    {
     "data": {
      "text/html": [
       "<div>\n",
       "<style scoped>\n",
       "    .dataframe tbody tr th:only-of-type {\n",
       "        vertical-align: middle;\n",
       "    }\n",
       "\n",
       "    .dataframe tbody tr th {\n",
       "        vertical-align: top;\n",
       "    }\n",
       "\n",
       "    .dataframe thead th {\n",
       "        text-align: right;\n",
       "    }\n",
       "</style>\n",
       "<table border=\"1\" class=\"dataframe\">\n",
       "  <thead>\n",
       "    <tr style=\"text-align: right;\">\n",
       "      <th></th>\n",
       "      <th>user_id</th>\n",
       "      <th>user_dif_cat</th>\n",
       "    </tr>\n",
       "  </thead>\n",
       "  <tbody>\n",
       "    <tr>\n",
       "      <th>0</th>\n",
       "      <td>0</td>\n",
       "      <td>2</td>\n",
       "    </tr>\n",
       "    <tr>\n",
       "      <th>1</th>\n",
       "      <td>1</td>\n",
       "      <td>5</td>\n",
       "    </tr>\n",
       "    <tr>\n",
       "      <th>2</th>\n",
       "      <td>2</td>\n",
       "      <td>7</td>\n",
       "    </tr>\n",
       "    <tr>\n",
       "      <th>3</th>\n",
       "      <td>3</td>\n",
       "      <td>1</td>\n",
       "    </tr>\n",
       "    <tr>\n",
       "      <th>4</th>\n",
       "      <td>4</td>\n",
       "      <td>5</td>\n",
       "    </tr>\n",
       "  </tbody>\n",
       "</table>\n",
       "</div>"
      ],
      "text/plain": [
       "   user_id  user_dif_cat\n",
       "0        0             2\n",
       "1        1             5\n",
       "2        2             7\n",
       "3        3             1\n",
       "4        4             5"
      ]
     },
     "execution_count": 50,
     "metadata": {
      "tags": []
     },
     "output_type": "execute_result"
    }
   ],
   "source": [
    "user_dif_cat = user_prod_train.groupby('user_id')['product_category'].nunique().to_frame('user_dif_cat')\n",
    "user_dif_cat = user_dif_cat.reset_index()\n",
    "user_dif_cat.head()"
   ]
  },
  {
   "cell_type": "markdown",
   "metadata": {
    "colab_type": "text",
    "id": "CV9TQNUCraKG"
   },
   "source": [
    "### Холодный старт для пользователей"
   ]
  },
  {
   "cell_type": "code",
   "execution_count": null,
   "metadata": {
    "colab": {},
    "colab_type": "code",
    "id": "AXkGMLdFqy7L"
   },
   "outputs": [],
   "source": [
    "all_users = user_feats.merge(user_total_buy, how='outer', on='user_id').merge(user_dif_cat, how='outer', on='user_id')"
   ]
  },
  {
   "cell_type": "code",
   "execution_count": null,
   "metadata": {
    "colab": {},
    "colab_type": "code",
    "id": "xPWD-Z2rrDiP"
   },
   "outputs": [],
   "source": [
    "all_users_without_nan = all_users[(~all_users['user_total_buy'].isna()) & (~all_users['user_dif_cat'].isna())]"
   ]
  },
  {
   "cell_type": "code",
   "execution_count": null,
   "metadata": {
    "colab": {
     "base_uri": "https://localhost:8080/",
     "height": 34
    },
    "colab_type": "code",
    "executionInfo": {
     "elapsed": 757,
     "status": "ok",
     "timestamp": 1593629164614,
     "user": {
      "displayName": "Алексей Андреевич Тышко",
      "photoUrl": "",
      "userId": "10250502674400601502"
     },
     "user_tz": -180
    },
    "id": "0vQRgGyLrnox",
    "outputId": "2435b1be-bfc0-4733-823e-3c5163114eec"
   },
   "outputs": [
    {
     "name": "stderr",
     "output_type": "stream",
     "text": [
      "0it [00:00, ?it/s]\n"
     ]
    }
   ],
   "source": [
    "for ind in tqdm(all_users[all_users['user_total_buy'].isna()].index, position=0):\n",
    "    region = all_users.loc[ind, 'user_region']\n",
    "    \n",
    "    temp_df = all_users_without_nan[(all_users_without_nan['user_region'] == region)]\n",
    "    \n",
    "    all_users.loc[ind, 'user_total_buy'] = int(temp_df.loc[:, 'user_total_buy'].mean())\n",
    "    all_users.loc[ind, 'user_dif_cat'] = int(temp_df.loc[:, 'user_dif_cat'].mean())"
   ]
  },
  {
   "cell_type": "code",
   "execution_count": null,
   "metadata": {
    "colab": {
     "base_uri": "https://localhost:8080/",
     "height": 34
    },
    "colab_type": "code",
    "executionInfo": {
     "elapsed": 624,
     "status": "ok",
     "timestamp": 1593629216306,
     "user": {
      "displayName": "Алексей Андреевич Тышко",
      "photoUrl": "",
      "userId": "10250502674400601502"
     },
     "user_tz": -180
    },
    "id": "GZFJvJCgs1NJ",
    "outputId": "83556a61-963b-42c8-9699-2bbda871ab5e"
   },
   "outputs": [
    {
     "name": "stderr",
     "output_type": "stream",
     "text": [
      "100%|██████████| 1/1 [00:00<00:00, 145.10it/s]\n"
     ]
    }
   ],
   "source": [
    "for ind in tqdm(all_users[all_users['user_dif_cat'].isna()].index, position=0):\n",
    "    region = all_users.loc[ind, 'user_region']\n",
    "    \n",
    "    temp_df = all_users_without_nan[(all_users_without_nan['user_region'] == region)]\n",
    "    \n",
    "    all_users.loc[ind, 'user_dif_cat'] = int(temp_df.loc[:, 'user_dif_cat'].mean())"
   ]
  },
  {
   "cell_type": "code",
   "execution_count": null,
   "metadata": {
    "colab": {},
    "colab_type": "code",
    "id": "aH8MOayqxFFB"
   },
   "outputs": [],
   "source": [
    "all_users.drop_duplicates(subset=['user_id'], inplace=True)"
   ]
  },
  {
   "cell_type": "code",
   "execution_count": null,
   "metadata": {
    "colab": {},
    "colab_type": "code",
    "id": "rtcuRXGst5SC"
   },
   "outputs": [],
   "source": [
    "all_users.to_csv('/content/drive/My Drive/Colab Notebooks/Sber_RecSys/Generated_Data/all_users.csv', index=False)"
   ]
  },
  {
   "cell_type": "markdown",
   "metadata": {
    "colab_type": "text",
    "id": "ek4uJJzdg9e4"
   },
   "source": [
    "### Продукт"
   ]
  },
  {
   "cell_type": "code",
   "execution_count": null,
   "metadata": {
    "colab": {
     "base_uri": "https://localhost:8080/",
     "height": 204
    },
    "colab_type": "code",
    "executionInfo": {
     "elapsed": 752,
     "status": "ok",
     "timestamp": 1593629251008,
     "user": {
      "displayName": "Алексей Андреевич Тышко",
      "photoUrl": "",
      "userId": "10250502674400601502"
     },
     "user_tz": -180
    },
    "id": "FRcmFdHEgyaX",
    "outputId": "5459e1fb-b83e-4d17-8ee1-5f8170d22347"
   },
   "outputs": [
    {
     "data": {
      "text/html": [
       "<div>\n",
       "<style scoped>\n",
       "    .dataframe tbody tr th:only-of-type {\n",
       "        vertical-align: middle;\n",
       "    }\n",
       "\n",
       "    .dataframe tbody tr th {\n",
       "        vertical-align: top;\n",
       "    }\n",
       "\n",
       "    .dataframe thead th {\n",
       "        text-align: right;\n",
       "    }\n",
       "</style>\n",
       "<table border=\"1\" class=\"dataframe\">\n",
       "  <thead>\n",
       "    <tr style=\"text-align: right;\">\n",
       "      <th></th>\n",
       "      <th>product_id</th>\n",
       "      <th>product_total_buy</th>\n",
       "    </tr>\n",
       "  </thead>\n",
       "  <tbody>\n",
       "    <tr>\n",
       "      <th>0</th>\n",
       "      <td>0</td>\n",
       "      <td>1</td>\n",
       "    </tr>\n",
       "    <tr>\n",
       "      <th>1</th>\n",
       "      <td>2</td>\n",
       "      <td>15</td>\n",
       "    </tr>\n",
       "    <tr>\n",
       "      <th>2</th>\n",
       "      <td>4</td>\n",
       "      <td>18</td>\n",
       "    </tr>\n",
       "    <tr>\n",
       "      <th>3</th>\n",
       "      <td>5</td>\n",
       "      <td>13</td>\n",
       "    </tr>\n",
       "    <tr>\n",
       "      <th>4</th>\n",
       "      <td>6</td>\n",
       "      <td>3</td>\n",
       "    </tr>\n",
       "  </tbody>\n",
       "</table>\n",
       "</div>"
      ],
      "text/plain": [
       "   product_id  product_total_buy\n",
       "0           0                  1\n",
       "1           2                 15\n",
       "2           4                 18\n",
       "3           5                 13\n",
       "4           6                  3"
      ]
     },
     "execution_count": 66,
     "metadata": {
      "tags": []
     },
     "output_type": "execute_result"
    }
   ],
   "source": [
    "product_total_buy = user_prod_train.groupby('product_id')['user_id'].count().to_frame('product_total_buy')\n",
    "product_total_buy = product_total_buy.reset_index()\n",
    "product_total_buy.head()"
   ]
  },
  {
   "cell_type": "code",
   "execution_count": null,
   "metadata": {
    "colab": {
     "base_uri": "https://localhost:8080/",
     "height": 204
    },
    "colab_type": "code",
    "executionInfo": {
     "elapsed": 430,
     "status": "ok",
     "timestamp": 1593629252029,
     "user": {
      "displayName": "Алексей Андреевич Тышко",
      "photoUrl": "",
      "userId": "10250502674400601502"
     },
     "user_tz": -180
    },
    "id": "NLrc6-1qikd8",
    "outputId": "a964f07a-1d65-49d1-cac7-6aec13c53da0"
   },
   "outputs": [
    {
     "data": {
      "text/html": [
       "<div>\n",
       "<style scoped>\n",
       "    .dataframe tbody tr th:only-of-type {\n",
       "        vertical-align: middle;\n",
       "    }\n",
       "\n",
       "    .dataframe tbody tr th {\n",
       "        vertical-align: top;\n",
       "    }\n",
       "\n",
       "    .dataframe thead th {\n",
       "        text-align: right;\n",
       "    }\n",
       "</style>\n",
       "<table border=\"1\" class=\"dataframe\">\n",
       "  <thead>\n",
       "    <tr style=\"text-align: right;\">\n",
       "      <th></th>\n",
       "      <th>product_id</th>\n",
       "      <th>prod_dif_region</th>\n",
       "    </tr>\n",
       "  </thead>\n",
       "  <tbody>\n",
       "    <tr>\n",
       "      <th>0</th>\n",
       "      <td>0</td>\n",
       "      <td>1</td>\n",
       "    </tr>\n",
       "    <tr>\n",
       "      <th>1</th>\n",
       "      <td>2</td>\n",
       "      <td>5</td>\n",
       "    </tr>\n",
       "    <tr>\n",
       "      <th>2</th>\n",
       "      <td>4</td>\n",
       "      <td>6</td>\n",
       "    </tr>\n",
       "    <tr>\n",
       "      <th>3</th>\n",
       "      <td>5</td>\n",
       "      <td>4</td>\n",
       "    </tr>\n",
       "    <tr>\n",
       "      <th>4</th>\n",
       "      <td>6</td>\n",
       "      <td>2</td>\n",
       "    </tr>\n",
       "  </tbody>\n",
       "</table>\n",
       "</div>"
      ],
      "text/plain": [
       "   product_id  prod_dif_region\n",
       "0           0                1\n",
       "1           2                5\n",
       "2           4                6\n",
       "3           5                4\n",
       "4           6                2"
      ]
     },
     "execution_count": 67,
     "metadata": {
      "tags": []
     },
     "output_type": "execute_result"
    }
   ],
   "source": [
    "prod_dif_region = user_prod_train.groupby('product_id')['user_region'].nunique().to_frame('prod_dif_region')\n",
    "prod_dif_region = prod_dif_region.reset_index()\n",
    "prod_dif_region.head()"
   ]
  },
  {
   "cell_type": "markdown",
   "metadata": {
    "colab_type": "text",
    "id": "HhvUyRD-tNt3"
   },
   "source": [
    "### Холодный старт для продуктов"
   ]
  },
  {
   "cell_type": "code",
   "execution_count": null,
   "metadata": {
    "colab": {},
    "colab_type": "code",
    "id": "SBbtvnPTtQAn"
   },
   "outputs": [],
   "source": [
    "all_prods = prod_feats.merge(product_total_buy, how='outer', on='product_id').merge(prod_dif_region, how='outer', on='product_id')"
   ]
  },
  {
   "cell_type": "code",
   "execution_count": null,
   "metadata": {
    "colab": {},
    "colab_type": "code",
    "id": "ViqYbcmqtSXe"
   },
   "outputs": [],
   "source": [
    "all_prod_without_nan = all_prods[(~all_prods['product_total_buy'].isna()) & (~all_prods['prod_dif_region'].isna())]"
   ]
  },
  {
   "cell_type": "code",
   "execution_count": null,
   "metadata": {
    "colab": {
     "base_uri": "https://localhost:8080/",
     "height": 34
    },
    "colab_type": "code",
    "executionInfo": {
     "elapsed": 18104,
     "status": "ok",
     "timestamp": 1593629332016,
     "user": {
      "displayName": "Алексей Андреевич Тышко",
      "photoUrl": "",
      "userId": "10250502674400601502"
     },
     "user_tz": -180
    },
    "id": "NqVHiwjttVAb",
    "outputId": "6d37fe6e-5258-4502-f984-f13c4779a83c"
   },
   "outputs": [
    {
     "name": "stderr",
     "output_type": "stream",
     "text": [
      "100%|██████████| 4038/4038 [00:17<00:00, 229.95it/s]\n"
     ]
    }
   ],
   "source": [
    "N_N = 5\n",
    "\n",
    "for ind in tqdm(all_prods[all_prods['product_total_buy'].isna()].index, position=0):\n",
    "    categ = all_prods.loc[ind, 'product_category']\n",
    "    price, asset = all_prods.loc[ind, 'price'], all_prods.loc[ind, 'asset']\n",
    "    \n",
    "    temp_df = all_prod_without_nan[(all_prod_without_nan['product_category'] == categ)]\n",
    "    if temp_df.shape[0] == 0:\n",
    "        temp_df = all_prod_without_nan\n",
    "        \n",
    "    n_neighbors = min(N_N, temp_df.shape[0])\n",
    "    \n",
    "    nn = NearestNeighbors(n_neighbors)\n",
    "    nn.fit(temp_df[['price', 'asset']].values)\n",
    "    \n",
    "    _, neighbors_inds = nn.kneighbors(np.reshape([price, asset], (1, 2)))\n",
    "    \n",
    "    all_prods.loc[ind, 'product_total_buy'] = int(temp_df.values[neighbors_inds, -2].mean())\n",
    "    all_prods.loc[ind, 'prod_dif_region'] = int(temp_df.values[neighbors_inds, -1].mean())"
   ]
  },
  {
   "cell_type": "code",
   "execution_count": null,
   "metadata": {
    "colab": {},
    "colab_type": "code",
    "id": "yt0vdVrZxPE4"
   },
   "outputs": [],
   "source": [
    "all_prods.drop_duplicates(subset=['product_id'], inplace=True)"
   ]
  },
  {
   "cell_type": "code",
   "execution_count": null,
   "metadata": {
    "colab": {},
    "colab_type": "code",
    "id": "g4B-yuqhtjtY"
   },
   "outputs": [],
   "source": [
    "all_prods.to_csv('/content/drive/My Drive/Colab Notebooks/Sber_RecSys/Generated_Data/all_prods.csv', index=False)"
   ]
  },
  {
   "cell_type": "markdown",
   "metadata": {
    "colab_type": "text",
    "id": "gSCJpdu6EhAa"
   },
   "source": [
    "### Мержим признаки"
   ]
  },
  {
   "cell_type": "code",
   "execution_count": null,
   "metadata": {
    "colab": {},
    "colab_type": "code",
    "id": "1g2ELHMHCB0W"
   },
   "outputs": [],
   "source": [
    "user_prod_train = interactions_train.merge(all_users, how='inner', on='user_id').merge(all_prods, how='inner', on='product_id')"
   ]
  },
  {
   "cell_type": "code",
   "execution_count": null,
   "metadata": {
    "colab": {
     "base_uri": "https://localhost:8080/",
     "height": 34
    },
    "colab_type": "code",
    "executionInfo": {
     "elapsed": 4078,
     "status": "ok",
     "timestamp": 1593630345858,
     "user": {
      "displayName": "Алексей Андреевич Тышко",
      "photoUrl": "",
      "userId": "10250502674400601502"
     },
     "user_tz": -180
    },
    "id": "19OWjjgbvNnm",
    "outputId": "8cb97aa6-e09a-4d68-ce48-e7d7867b1b6a"
   },
   "outputs": [
    {
     "name": "stderr",
     "output_type": "stream",
     "text": [
      "100%|██████████| 10234/10234 [00:02<00:00, 3566.54it/s]\n"
     ]
    }
   ],
   "source": [
    "val_arr = []\n",
    "for user_id, group_u in tqdm(interactions_val.groupby('user_id'), position=0):\n",
    "    val_arr.append([user_id, group_u['product_id'].values])"
   ]
  },
  {
   "cell_type": "code",
   "execution_count": null,
   "metadata": {
    "colab": {},
    "colab_type": "code",
    "id": "a7rS5egyvyWr"
   },
   "outputs": [],
   "source": [
    "val_df = pd.DataFrame(val_arr, columns=['user_id', 'bought_products']).merge(all_users, how='inner', on='user_id')"
   ]
  },
  {
   "cell_type": "code",
   "execution_count": null,
   "metadata": {
    "colab": {
     "base_uri": "https://localhost:8080/",
     "height": 34
    },
    "colab_type": "code",
    "executionInfo": {
     "elapsed": 4262,
     "status": "ok",
     "timestamp": 1593630487286,
     "user": {
      "displayName": "Алексей Андреевич Тышко",
      "photoUrl": "",
      "userId": "10250502674400601502"
     },
     "user_tz": -180
    },
    "id": "BBqJtn8huppy",
    "outputId": "897396b1-8bf7-49ec-d4e8-3a31b040356b"
   },
   "outputs": [
    {
     "name": "stderr",
     "output_type": "stream",
     "text": [
      "100%|██████████| 12398/12398 [00:03<00:00, 3841.54it/s]\n"
     ]
    }
   ],
   "source": [
    "test_arr = []\n",
    "for user_id, group_u in tqdm(interactions_test.groupby('user_id'), position=0):\n",
    "    test_arr.append([user_id, group_u['product_id'].values])"
   ]
  },
  {
   "cell_type": "code",
   "execution_count": null,
   "metadata": {
    "colab": {},
    "colab_type": "code",
    "id": "WkkaXczzx4Dl"
   },
   "outputs": [],
   "source": [
    "test_df = pd.DataFrame(test_arr, columns=['user_id', 'bought_products']).merge(all_users, how='inner', on='user_id')"
   ]
  },
  {
   "cell_type": "code",
   "execution_count": null,
   "metadata": {
    "colab": {},
    "colab_type": "code",
    "id": "nkNtJnIgyCvT"
   },
   "outputs": [],
   "source": [
    "val_df.to_csv('/content/drive/My Drive/Colab Notebooks/Sber_RecSys/Generated_Data/val_df.csv', index=False)\n",
    "test_df.to_csv('/content/drive/My Drive/Colab Notebooks/Sber_RecSys/Generated_Data/test_df.csv', index=False)"
   ]
  },
  {
   "cell_type": "markdown",
   "metadata": {
    "colab_type": "text",
    "id": "oa3eaxI4zWtP"
   },
   "source": [
    "## Генерируем отрицательные классы"
   ]
  },
  {
   "cell_type": "code",
   "execution_count": null,
   "metadata": {
    "colab": {
     "base_uri": "https://localhost:8080/",
     "height": 34
    },
    "colab_type": "code",
    "executionInfo": {
     "elapsed": 1315766,
     "status": "ok",
     "timestamp": 1593632493763,
     "user": {
      "displayName": "Алексей Андреевич Тышко",
      "photoUrl": "",
      "userId": "10250502674400601502"
     },
     "user_tz": -180
    },
    "id": "YickcQ_KzgmI",
    "outputId": "84a2457b-96b2-4df1-ad07-42dd785c76ef"
   },
   "outputs": [
    {
     "name": "stderr",
     "output_type": "stream",
     "text": [
      "100%|██████████| 26184/26184 [21:54<00:00, 19.92it/s]\n"
     ]
    }
   ],
   "source": [
    "np.random.seed(432)\n",
    "\n",
    "negative_samples = []\n",
    "for user_id, group_u in tqdm(user_prod_train.groupby('user_id'), position=0):\n",
    "    \n",
    "    product_list = list(set(group_u['product_id']))\n",
    "    \n",
    "    target_products = list(set(user_prod_train[(user_prod_train['user_id'] != user_id) & (~user_prod_train['product_id'].isin(product_list))]['product_id']))\n",
    "    \n",
    "    num_to_extract = min(len(product_list), len(target_products))\n",
    "    \n",
    "    negative_products = np.random.choice(target_products, num_to_extract, replace=False)\n",
    "    \n",
    "    for product in negative_products:\n",
    "        negative_samples.append([user_id, product])"
   ]
  },
  {
   "cell_type": "code",
   "execution_count": null,
   "metadata": {
    "colab": {},
    "colab_type": "code",
    "id": "Hsugsc4H-W8E"
   },
   "outputs": [],
   "source": [
    "negative_user_prod_train = pd.DataFrame(negative_samples, columns=['user_id', 'product_id'])\n",
    "negative_user_prod_train['label'] = 0"
   ]
  },
  {
   "cell_type": "code",
   "execution_count": null,
   "metadata": {
    "colab": {},
    "colab_type": "code",
    "id": "Gp3egGOe5-sg"
   },
   "outputs": [],
   "source": [
    "negative_user_prod_train = negative_user_prod_train.merge(all_users, how='inner', on='user_id').merge(all_prods, how='inner', on='product_id')"
   ]
  },
  {
   "cell_type": "markdown",
   "metadata": {
    "colab_type": "text",
    "id": "i0Qsdrfj_oD7"
   },
   "source": [
    "## Мержим датасеты и сохраняем"
   ]
  },
  {
   "cell_type": "code",
   "execution_count": null,
   "metadata": {
    "colab": {},
    "colab_type": "code",
    "id": "LhXxsZ8F1zSy"
   },
   "outputs": [],
   "source": [
    "df = pd.concat((user_prod_train, negative_user_prod_train), axis=0).sample(frac=1)"
   ]
  },
  {
   "cell_type": "code",
   "execution_count": null,
   "metadata": {
    "colab": {},
    "colab_type": "code",
    "id": "CwucpX0T_h51"
   },
   "outputs": [],
   "source": [
    "df.to_csv('/content/drive/My Drive/Colab Notebooks/Sber_RecSys/Generated_Data/train_dataset.csv', index=False)"
   ]
  },
  {
   "cell_type": "markdown",
   "metadata": {
    "colab_type": "text",
    "id": "zcDLjVqZBeT4"
   },
   "source": [
    "# Обучение"
   ]
  },
  {
   "cell_type": "code",
   "execution_count": 23,
   "metadata": {
    "colab": {},
    "colab_type": "code",
    "executionInfo": {
     "elapsed": 1218,
     "status": "ok",
     "timestamp": 1593699681974,
     "user": {
      "displayName": "Алексей Андреевич Тышко",
      "photoUrl": "",
      "userId": "10250502674400601502"
     },
     "user_tz": -180
    },
    "id": "FgAgFMbjBDrl"
   },
   "outputs": [],
   "source": [
    "train_df = pd.read_csv('/content/drive/My Drive/Colab Notebooks/Sber_RecSys/Generated_Data/train_dataset.csv')\n",
    "val_df = pd.read_csv('/content/drive/My Drive/Colab Notebooks/Sber_RecSys/Generated_Data/val_df.csv')\n",
    "test_df = pd.read_csv('/content/drive/My Drive/Colab Notebooks/Sber_RecSys/Generated_Data/test_df.csv')\n",
    "all_prods = pd.read_csv('/content/drive/My Drive/Colab Notebooks/Sber_RecSys/Generated_Data/all_prods.csv')\n",
    "all_users = pd.read_csv('/content/drive/My Drive/Colab Notebooks/Sber_RecSys/Generated_Data/all_users.csv')\n",
    "\n",
    "train_df['user_region'] = train_df['user_region'].astype(CategoricalDtype(categories=[0.0, 1.0, 2.0, 3.0, 4.0, 5.0, 6.0, 7.0]))\n",
    "train_df['product_category'] = train_df['product_category'].astype('category')\n",
    "\n",
    "val_df['user_region'] = val_df['user_region'].astype(CategoricalDtype(categories=[0.0, 1.0, 2.0, 3.0, 4.0, 5.0, 6.0, 7.0]))\n",
    "val_df['bought_products'] = val_df['bought_products'].apply(lambda x:np.fromstring(x.strip('[ ]'), dtype=int, sep=' '))\n",
    "\n",
    "test_df['user_region'] = test_df['user_region'].astype(CategoricalDtype(categories=[0.0, 1.0, 2.0, 3.0, 4.0, 5.0, 6.0, 7.0]))\n",
    "test_df['bought_products'] = test_df['bought_products'].apply(lambda x:np.fromstring(x.strip('[ ]'), dtype=int, sep=' '))\n",
    "\n",
    "all_prods['product_category'] = all_prods['product_category'].astype('category')\n",
    "\n",
    "all_users['user_region'] = all_users['user_region'].astype(CategoricalDtype(categories=[0.0, 1.0, 2.0, 3.0, 4.0, 5.0, 6.0, 7.0]))"
   ]
  },
  {
   "cell_type": "code",
   "execution_count": 3,
   "metadata": {
    "colab": {},
    "colab_type": "code",
    "executionInfo": {
     "elapsed": 965,
     "status": "ok",
     "timestamp": 1593697745010,
     "user": {
      "displayName": "Алексей Андреевич Тышко",
      "photoUrl": "",
      "userId": "10250502674400601502"
     },
     "user_tz": -180
    },
    "id": "cvMjmPm5KiLo"
   },
   "outputs": [],
   "source": [
    "feat_cols = ['user_region', 'product_category', 'price', 'asset', 'user_total_buy', 'user_dif_cat', 'product_total_buy', 'prod_dif_region', 'label']\n",
    "\n",
    "X_train, y_train = train_df[feat_cols[:-1]], train_df[feat_cols[-1]]"
   ]
  },
  {
   "cell_type": "code",
   "execution_count": 4,
   "metadata": {
    "colab": {
     "base_uri": "https://localhost:8080/",
     "height": 204
    },
    "colab_type": "code",
    "executionInfo": {
     "elapsed": 946,
     "status": "ok",
     "timestamp": 1593697746423,
     "user": {
      "displayName": "Алексей Андреевич Тышко",
      "photoUrl": "",
      "userId": "10250502674400601502"
     },
     "user_tz": -180
    },
    "id": "1gARZFaPPC47",
    "outputId": "f835b6cb-195a-4d8f-b0c6-5b6f0533e181"
   },
   "outputs": [
    {
     "data": {
      "text/html": [
       "<div>\n",
       "<style scoped>\n",
       "    .dataframe tbody tr th:only-of-type {\n",
       "        vertical-align: middle;\n",
       "    }\n",
       "\n",
       "    .dataframe tbody tr th {\n",
       "        vertical-align: top;\n",
       "    }\n",
       "\n",
       "    .dataframe thead th {\n",
       "        text-align: right;\n",
       "    }\n",
       "</style>\n",
       "<table border=\"1\" class=\"dataframe\">\n",
       "  <thead>\n",
       "    <tr style=\"text-align: right;\">\n",
       "      <th></th>\n",
       "      <th>user_id</th>\n",
       "      <th>product_id</th>\n",
       "      <th>label</th>\n",
       "      <th>user_region</th>\n",
       "      <th>user_total_buy</th>\n",
       "      <th>user_dif_cat</th>\n",
       "      <th>product_category</th>\n",
       "      <th>price</th>\n",
       "      <th>asset</th>\n",
       "      <th>product_total_buy</th>\n",
       "      <th>prod_dif_region</th>\n",
       "    </tr>\n",
       "  </thead>\n",
       "  <tbody>\n",
       "    <tr>\n",
       "      <th>0</th>\n",
       "      <td>6210</td>\n",
       "      <td>5457</td>\n",
       "      <td>1.0</td>\n",
       "      <td>6.0</td>\n",
       "      <td>71.0</td>\n",
       "      <td>60.0</td>\n",
       "      <td>209</td>\n",
       "      <td>0.001643</td>\n",
       "      <td>0.001519</td>\n",
       "      <td>52.0</td>\n",
       "      <td>7.0</td>\n",
       "    </tr>\n",
       "    <tr>\n",
       "      <th>1</th>\n",
       "      <td>21635</td>\n",
       "      <td>12268</td>\n",
       "      <td>0.0</td>\n",
       "      <td>6.0</td>\n",
       "      <td>6.0</td>\n",
       "      <td>6.0</td>\n",
       "      <td>883</td>\n",
       "      <td>0.003568</td>\n",
       "      <td>0.002707</td>\n",
       "      <td>3.0</td>\n",
       "      <td>2.0</td>\n",
       "    </tr>\n",
       "    <tr>\n",
       "      <th>2</th>\n",
       "      <td>30896</td>\n",
       "      <td>16185</td>\n",
       "      <td>1.0</td>\n",
       "      <td>1.0</td>\n",
       "      <td>4.0</td>\n",
       "      <td>4.0</td>\n",
       "      <td>1944</td>\n",
       "      <td>0.011033</td>\n",
       "      <td>0.009687</td>\n",
       "      <td>159.0</td>\n",
       "      <td>8.0</td>\n",
       "    </tr>\n",
       "    <tr>\n",
       "      <th>3</th>\n",
       "      <td>4392</td>\n",
       "      <td>12941</td>\n",
       "      <td>0.0</td>\n",
       "      <td>1.0</td>\n",
       "      <td>24.0</td>\n",
       "      <td>21.0</td>\n",
       "      <td>196</td>\n",
       "      <td>0.012723</td>\n",
       "      <td>0.009212</td>\n",
       "      <td>6.0</td>\n",
       "      <td>2.0</td>\n",
       "    </tr>\n",
       "    <tr>\n",
       "      <th>4</th>\n",
       "      <td>14310</td>\n",
       "      <td>5103</td>\n",
       "      <td>0.0</td>\n",
       "      <td>6.0</td>\n",
       "      <td>50.0</td>\n",
       "      <td>45.0</td>\n",
       "      <td>119</td>\n",
       "      <td>0.003192</td>\n",
       "      <td>0.002849</td>\n",
       "      <td>4.0</td>\n",
       "      <td>3.0</td>\n",
       "    </tr>\n",
       "  </tbody>\n",
       "</table>\n",
       "</div>"
      ],
      "text/plain": [
       "   user_id  product_id  label  ...     asset  product_total_buy  prod_dif_region\n",
       "0     6210        5457    1.0  ...  0.001519               52.0              7.0\n",
       "1    21635       12268    0.0  ...  0.002707                3.0              2.0\n",
       "2    30896       16185    1.0  ...  0.009687              159.0              8.0\n",
       "3     4392       12941    0.0  ...  0.009212                6.0              2.0\n",
       "4    14310        5103    0.0  ...  0.002849                4.0              3.0\n",
       "\n",
       "[5 rows x 11 columns]"
      ]
     },
     "execution_count": 4,
     "metadata": {
      "tags": []
     },
     "output_type": "execute_result"
    }
   ],
   "source": [
    "train_df.head()"
   ]
  },
  {
   "cell_type": "code",
   "execution_count": 5,
   "metadata": {
    "colab": {},
    "colab_type": "code",
    "executionInfo": {
     "elapsed": 885,
     "status": "ok",
     "timestamp": 1593697749510,
     "user": {
      "displayName": "Алексей Андреевич Тышко",
      "photoUrl": "",
      "userId": "10250502674400601502"
     },
     "user_tz": -180
    },
    "id": "orOQvBkmZqCn"
   },
   "outputs": [],
   "source": [
    "def average_precision(bought_products, sorted_recommended_products, K):\n",
    "    av_prec = 0\n",
    "    recommends = list(map(lambda x: x in bought_products, sorted_recommended_products))\n",
    "    precision = [sum(recommends[:k+1])/(k+1.) for k in range(K)]\n",
    "    for i in range(K):\n",
    "        av_prec += recommends[i]*precision[i]\n",
    "        \n",
    "    return av_prec/len(bought_products)"
   ]
  },
  {
   "cell_type": "markdown",
   "metadata": {
    "colab_type": "text",
    "id": "w-H8DVECG5ZF"
   },
   "source": [
    "## Оптимизируем гиперпараметры на валидационной выборке по целевой метрике"
   ]
  },
  {
   "cell_type": "code",
   "execution_count": null,
   "metadata": {
    "colab": {},
    "colab_type": "code",
    "id": "9ddmq2V_MysQ"
   },
   "outputs": [],
   "source": [
    "gridParams = {\n",
    "    'boosting_type': ['gbdt','dart'],\n",
    "    'colsample_bytree': [0.6, 0.8],\n",
    "    'learning_rate': [0.05],\n",
    "    'max_depth' : [-1, 5],\n",
    "    'min_child_samples': [20],\n",
    "    'min_child_weight': [0.001],\n",
    "    'min_split_gain': [0.5],\n",
    "    'n_estimators': [100],\n",
    "    'num_leaves': [16, 32],\n",
    "    'reg_alpha': [0, 1.2],\n",
    "    'reg_lambda': [0],\n",
    "    'subsample': [0.8, 1],\n",
    "    'subsample_for_bin': [200],\n",
    "    'subsample_freq': [1, 2]\n",
    "    }"
   ]
  },
  {
   "cell_type": "code",
   "execution_count": 1,
   "metadata": {},
   "outputs": [],
   "source": [
    "import configparser\n",
    "from optimization import read_grid_params_from_config\n",
    "import numpy as np"
   ]
  },
  {
   "cell_type": "code",
   "execution_count": 2,
   "metadata": {},
   "outputs": [
    {
     "data": {
      "text/plain": [
       "array([12])"
      ]
     },
     "execution_count": 2,
     "metadata": {},
     "output_type": "execute_result"
    }
   ],
   "source": [
    "np.fromstring('12', dtype=int, sep=', ')"
   ]
  },
  {
   "cell_type": "code",
   "execution_count": 3,
   "metadata": {},
   "outputs": [
    {
     "data": {
      "text/plain": [
       "{'boosting_type': ['gbdt', 'dart'],\n",
       " 'colsample_bytree': array([0.6, 0.8]),\n",
       " 'learning_rate': array([0.05]),\n",
       " 'max_depth': array([-1,  5]),\n",
       " 'min_child_samples': array([20]),\n",
       " 'min_child_weight': array([0.001]),\n",
       " 'min_split_gain': array([0.5]),\n",
       " 'n_estimators': array([100]),\n",
       " 'num_leaves': array([16, 32]),\n",
       " 'reg_alpha': array([0. , 1.2]),\n",
       " 'reg_lambda': array([0.]),\n",
       " 'subsample': array([0.8, 1. ]),\n",
       " 'subsample_for_bin': array([200]),\n",
       " 'subsample_freq': array([1, 2])}"
      ]
     },
     "execution_count": 3,
     "metadata": {},
     "output_type": "execute_result"
    }
   ],
   "source": [
    "read_grid_params_from_config('opt_conf.ini')"
   ]
  },
  {
   "cell_type": "code",
   "execution_count": null,
   "metadata": {
    "colab": {},
    "colab_type": "code",
    "id": "XYiULctOhAgS"
   },
   "outputs": [],
   "source": [
    "params = [{'boosting_type':bt, 'colsample_bytree':cbt, 'learning_rate':lr, 'max_depth':md, 'min_child_samples':mcs, 'min_child_weight':mcw,\n",
    "           'min_split_gain':msg, 'n_estimators':ne, 'num_leaves':nl, 'reg_alpha':l1, 'reg_lambda':l2, 'subsample':subs, \n",
    "           'subsample_for_bin':sfb, 'subsample_freq':sf} for bt in gridParams['boosting_type'] for cbt in gridParams['colsample_bytree'] \n",
    "          for lr in gridParams['learning_rate'] for md in  gridParams['max_depth'] for mcs in gridParams['min_child_samples'] \n",
    "          for mcw in gridParams['min_child_weight'] for msg in gridParams['min_split_gain'] for ne in gridParams['n_estimators']\n",
    "          for nl in gridParams['num_leaves'] for l1 in gridParams['reg_alpha'] for l2 in gridParams['reg_lambda']\n",
    "          for subs in gridParams['subsample'] for sfb in gridParams['subsample_for_bin'] for sf in gridParams['subsample_freq']]"
   ]
  },
  {
   "cell_type": "code",
   "execution_count": null,
   "metadata": {
    "colab": {},
    "colab_type": "code",
    "id": "KUajtIxiMjQ4"
   },
   "outputs": [],
   "source": [
    "best_mean_av_prec = 0\n",
    "best_params = params[0]\n",
    "\n",
    "for param in tqdm(params, position=0):\n",
    "    lgbmc = lgb.LGBMClassifier(objective='binary', random_state=432, \n",
    "                             boosting_type=param['boosting_type'],\n",
    "                             colsample_bytree=param['colsample_bytree'],\n",
    "                             learning_rate=param['learning_rate'],\n",
    "                             max_depth=param['max_depth'],\n",
    "                             min_child_samples=param['min_child_samples'],\n",
    "                             min_child_weight=param['min_child_weight'],\n",
    "                             min_split_gain=param['min_split_gain'],\n",
    "                             n_estimators=param['n_estimators'],\n",
    "                             num_leaves=param['num_leaves'],\n",
    "                             reg_alpha=param['reg_alpha'],\n",
    "                             reg_lambda=param['reg_lambda'],\n",
    "                             subsample=param['subsample'],\n",
    "                             subsample_for_bin=param['subsample_for_bin'],\n",
    "                             subsample_freq=param['subsample_freq'])\n",
    "    \n",
    "    model_lgbm = lgbmc.fit(X_train, y_train)\n",
    "    \n",
    "    mean_av_prec = 0\n",
    "    total = 0\n",
    "    \n",
    "    for line in tqdm(val_df.values, position=0):\n",
    "        \n",
    "        user_id, bought_products, user_region, user_total_buy, user_dif_cat = line\n",
    "        \n",
    "        temp_df = all_prods.copy()\n",
    "        \n",
    "        temp_df['user_region'] = user_region\n",
    "        temp_df['user_region'] = temp_df['user_region'].astype(CategoricalDtype(categories=[0.0, 1.0, 2.0, 3.0, 4.0, 5.0, 6.0, 7.0]))\n",
    "        temp_df['user_total_buy'] = user_total_buy\n",
    "        temp_df['user_dif_cat'] = user_dif_cat\n",
    "        \n",
    "        temp_df['probs'] = model_lgbm.predict_proba(temp_df[feat_cols[:-1]])[:, 1]\n",
    "        \n",
    "        sorted_recommended_products = temp_df['product_id'].values[np.argsort(temp_df['probs'].values)[::-1]]\n",
    "        \n",
    "        mean_av_prec += average_precision(bought_products, sorted_recommended_products, 10)\n",
    "        total += 1\n",
    "        \n",
    "        mean_av_prec /= total\n",
    "        \n",
    "        if mean_av_prec > best_mean_av_prec:\n",
    "            best_mean_av_prec = mean_av_prec\n",
    "            best_params = param\n",
    "            \n",
    "        with open('/content/drive/My Drive/Colab Notebooks/Sber_RecSys/Model/best_model.pkl', 'wb') as f:\n",
    "            pkl.dump(model_lgbm, f)"
   ]
  },
  {
   "cell_type": "markdown",
   "metadata": {
    "colab_type": "text",
    "id": "pXqB0yMnkKrh"
   },
   "source": [
    "## Сравниваем другие подходы с моделью на тестовой выборке"
   ]
  },
  {
   "cell_type": "markdown",
   "metadata": {
    "colab_type": "text",
    "id": "depbeoINwG1k"
   },
   "source": [
    "### Собираем статистику по исходной модели"
   ]
  },
  {
   "cell_type": "code",
   "execution_count": 38,
   "metadata": {
    "colab": {},
    "colab_type": "code",
    "executionInfo": {
     "elapsed": 604,
     "status": "ok",
     "timestamp": 1593702883059,
     "user": {
      "displayName": "Алексей Андреевич Тышко",
      "photoUrl": "",
      "userId": "10250502674400601502"
     },
     "user_tz": -180
    },
    "id": "By11PUKCETXj"
   },
   "outputs": [],
   "source": [
    "best_params = {'boosting_type':'gbdt',\n",
    "               'colsample_bytree':0.8,\n",
    "               'learning_rate':0.05,\n",
    "               'max_depth':5,\n",
    "               'min_child_samples':20,\n",
    "               'min_child_weight':0.001,\n",
    "               'min_split_gain':0.5,\n",
    "               'n_estimators':100,\n",
    "               'num_leaves':16,\n",
    "               'reg_alpha':1.2,\n",
    "               'reg_lambda':0,\n",
    "               'subsample':0.8,\n",
    "               'subsample_for_bin':200,\n",
    "               'subsample_freq':1}"
   ]
  },
  {
   "cell_type": "code",
   "execution_count": 46,
   "metadata": {
    "colab": {
     "base_uri": "https://localhost:8080/",
     "height": 119
    },
    "colab_type": "code",
    "executionInfo": {
     "elapsed": 8654452,
     "status": "ok",
     "timestamp": 1593711835115,
     "user": {
      "displayName": "Алексей Андреевич Тышко",
      "photoUrl": "",
      "userId": "10250502674400601502"
     },
     "user_tz": -180
    },
    "id": "fW3kcg5JEK2V",
    "outputId": "0070d203-5e48-414a-b71c-09adc11c687b"
   },
   "outputs": [
    {
     "name": "stderr",
     "output_type": "stream",
     "text": [
      "100%|██████████| 12398/12398 [28:41<00:00,  7.20it/s]\n",
      "100%|██████████| 12398/12398 [28:21<00:00,  7.28it/s]\n",
      "100%|██████████| 12398/12398 [28:15<00:00,  7.31it/s]\n",
      "100%|██████████| 12398/12398 [29:38<00:00,  6.97it/s]\n",
      "100%|██████████| 12398/12398 [28:52<00:00,  7.16it/s]\n",
      "100%|██████████| 5/5 [2:24:13<00:00, 1730.75s/it]\n"
     ]
    }
   ],
   "source": [
    "for i in tqdm(range(5), position=0):\n",
    "    \n",
    "    path = '/content/drive/My Drive/Colab Notebooks/Sber_RecSys/Model/{0}'.format(i)\n",
    "    os.mkdir(path)\n",
    "    \n",
    "    lgbmc = lgb.LGBMClassifier(objective='binary', \n",
    "                              boosting_type=best_params['boosting_type'],\n",
    "                              colsample_bytree=best_params['colsample_bytree'],\n",
    "                              learning_rate=best_params['learning_rate'],\n",
    "                              max_depth=best_params['max_depth'],\n",
    "                              min_child_samples=best_params['min_child_samples'],\n",
    "                              min_child_weight=best_params['min_child_weight'],\n",
    "                              min_split_gain=best_params['min_split_gain'],\n",
    "                              n_estimators=best_params['n_estimators'],\n",
    "                              num_leaves=best_params['num_leaves'],\n",
    "                              reg_alpha=best_params['reg_alpha'],\n",
    "                              reg_lambda=best_params['reg_lambda'],\n",
    "                              subsample=best_params['subsample'],\n",
    "                              subsample_for_bin=best_params['subsample_for_bin'],\n",
    "                              subsample_freq=best_params['subsample_freq'])\n",
    "    \n",
    "    model_lgbm = lgbmc.fit(X_train, y_train)\n",
    "    \n",
    "    mean_av_prec = 0\n",
    "    total = 0\n",
    "    \n",
    "    for line in tqdm(test_df.values, position=0):\n",
    "        user_id, bought_products, user_region, user_total_buy, user_dif_cat = line\n",
    "        \n",
    "        temp_df = all_prods.copy()\n",
    "        \n",
    "        temp_df['user_region'] = user_region\n",
    "        temp_df['user_region'] = temp_df['user_region'].astype(CategoricalDtype(categories=[0.0, 1.0, 2.0, 3.0, 4.0, 5.0, 6.0, 7.0]))\n",
    "        temp_df['user_total_buy'] = user_total_buy\n",
    "        temp_df['user_dif_cat'] = user_dif_cat\n",
    "        \n",
    "        temp_df['probs'] = model_lgbm.predict_proba(temp_df[feat_cols[:-1]])[:, 1]\n",
    "        \n",
    "        sorted_recommended_products = temp_df['product_id'].values[np.argsort(temp_df['probs'].values)[::-1]]\n",
    "        \n",
    "        mean_av_prec += average_precision(bought_products, sorted_recommended_products, 10)\n",
    "        total += 1\n",
    "        \n",
    "    with open(path + '/model.pkl', 'wb') as f:\n",
    "        pkl.dump(model_lgbm, f)\n",
    "        \n",
    "    with open(path + '/metric.pkl', 'wb') as f:\n",
    "        pkl.dump(mean_av_prec/total, f)"
   ]
  },
  {
   "cell_type": "code",
   "execution_count": 47,
   "metadata": {
    "colab": {},
    "colab_type": "code",
    "executionInfo": {
     "elapsed": 930,
     "status": "ok",
     "timestamp": 1593711963846,
     "user": {
      "displayName": "Алексей Андреевич Тышко",
      "photoUrl": "",
      "userId": "10250502674400601502"
     },
     "user_tz": -180
    },
    "id": "P6FduwffoYqx"
   },
   "outputs": [],
   "source": [
    "lgbm_metric = []\n",
    "for i in range(5):\n",
    "    path = '/content/drive/My Drive/Colab Notebooks/Sber_RecSys/Model/{0}'.format(i)\n",
    "    with open(path + '/metric.pkl', 'rb') as f:\n",
    "        lgbm_metric.append(pkl.load(f))"
   ]
  },
  {
   "cell_type": "code",
   "execution_count": 50,
   "metadata": {
    "colab": {
     "base_uri": "https://localhost:8080/",
     "height": 34
    },
    "colab_type": "code",
    "executionInfo": {
     "elapsed": 993,
     "status": "ok",
     "timestamp": 1593712243681,
     "user": {
      "displayName": "Алексей Андреевич Тышко",
      "photoUrl": "",
      "userId": "10250502674400601502"
     },
     "user_tz": -180
    },
    "id": "dkO1bOltorNT",
    "outputId": "b134af27-0d4d-4d78-cc50-26057862066b"
   },
   "outputs": [
    {
     "name": "stdout",
     "output_type": "stream",
     "text": [
      "0.006184884371275953\n"
     ]
    }
   ],
   "source": [
    "mean_average_precision_lgbm = 0.006184884371275953"
   ]
  },
  {
   "cell_type": "markdown",
   "metadata": {},
   "source": [
    "Тут получилось почему-то для всех иниициализаций одно и то же значение целевой метрики"
   ]
  },
  {
   "cell_type": "markdown",
   "metadata": {
    "colab_type": "text",
    "id": "GRu2fmpWzGCZ"
   },
   "source": [
    "### Рекомендуем 10 самых популярных продуктов среди всех покупателей"
   ]
  },
  {
   "cell_type": "code",
   "execution_count": 51,
   "metadata": {
    "colab": {},
    "colab_type": "code",
    "executionInfo": {
     "elapsed": 548,
     "status": "ok",
     "timestamp": 1593712259350,
     "user": {
      "displayName": "Алексей Андреевич Тышко",
      "photoUrl": "",
      "userId": "10250502674400601502"
     },
     "user_tz": -180
    },
    "id": "htDkJFljXCTb"
   },
   "outputs": [],
   "source": [
    "recommended_prods = all_prods.sort_values('product_total_buy', ascending=False)['product_id'].values[:10]"
   ]
  },
  {
   "cell_type": "code",
   "execution_count": 52,
   "metadata": {
    "colab": {
     "base_uri": "https://localhost:8080/",
     "height": 85
    },
    "colab_type": "code",
    "executionInfo": {
     "elapsed": 1518,
     "status": "ok",
     "timestamp": 1593712261296,
     "user": {
      "displayName": "Алексей Андреевич Тышко",
      "photoUrl": "",
      "userId": "10250502674400601502"
     },
     "user_tz": -180
    },
    "id": "B-SHdKts05lo",
    "outputId": "a3a9b6e9-c7d2-4573-bdba-87734024ec22"
   },
   "outputs": [
    {
     "name": "stderr",
     "output_type": "stream",
     "text": [
      "100%|██████████| 10234/10234 [00:00<00:00, 20867.50it/s]"
     ]
    },
    {
     "name": "stdout",
     "output_type": "stream",
     "text": [
      "\n",
      "\n",
      "0.006939778607406747\n"
     ]
    },
    {
     "name": "stderr",
     "output_type": "stream",
     "text": [
      "\n"
     ]
    }
   ],
   "source": [
    "mean_av_prec = 0\n",
    "total = 0\n",
    "\n",
    "for line in tqdm(test_df.values, position=0):\n",
    "    user_id, bought_products, user_region, user_total_buy, user_dif_cat = line\n",
    "    \n",
    "    mean_av_prec += average_precision(bought_products, recommended_prods, 10)\n",
    "    total += 1\n",
    "\n",
    "print('\\n')\n",
    "print(mean_av_prec/total)"
   ]
  },
  {
   "cell_type": "code",
   "execution_count": null,
   "metadata": {
    "colab": {},
    "colab_type": "code",
    "id": "IRhdvDEA77PG"
   },
   "outputs": [],
   "source": [
    "mean_average_precision_popular = 0.006939778607406747"
   ]
  },
  {
   "cell_type": "markdown",
   "metadata": {
    "colab_type": "text",
    "id": "m9q_nU2X1IMe"
   },
   "source": [
    "### Рекомендуем 10 самых популярных продуктов среди покупателей из одного региона"
   ]
  },
  {
   "cell_type": "code",
   "execution_count": 53,
   "metadata": {
    "colab": {
     "base_uri": "https://localhost:8080/",
     "height": 85
    },
    "colab_type": "code",
    "executionInfo": {
     "elapsed": 195766,
     "status": "ok",
     "timestamp": 1593712466102,
     "user": {
      "displayName": "Алексей Андреевич Тышко",
      "photoUrl": "",
      "userId": "10250502674400601502"
     },
     "user_tz": -180
    },
    "id": "kTXuXw7hUgC1",
    "outputId": "0bd73507-ebee-44b9-8d28-55db8c8340da"
   },
   "outputs": [
    {
     "name": "stderr",
     "output_type": "stream",
     "text": [
      "100%|██████████| 12398/12398 [03:14<00:00, 63.59it/s]"
     ]
    },
    {
     "name": "stdout",
     "output_type": "stream",
     "text": [
      "\n",
      "\n",
      "0.0068433079058005915\n"
     ]
    },
    {
     "name": "stderr",
     "output_type": "stream",
     "text": [
      "\n"
     ]
    }
   ],
   "source": [
    "mean_av_prec = 0\n",
    "total = 0\n",
    "\n",
    "for line in tqdm(test_df.values, position=0):\n",
    "    user_id, bought_products, user_region, user_total_buy, user_dif_cat = line\n",
    "    \n",
    "    temp_df = train_df[(train_df['label']==1) & (train_df['user_region'] == user_region)].copy()\n",
    "    count_prod = temp_df.groupby('product_id')['product_id'].count().to_frame('count_prod').reset_index()\n",
    "    \n",
    "    recommended_prods = count_prod.sort_values('count_prod', ascending=False)['product_id'].values[:10]\n",
    "    \n",
    "    mean_av_prec += average_precision(bought_products, recommended_prods, 10)\n",
    "    total += 1\n",
    "\n",
    "print('\\n')\n",
    "print(mean_av_prec/total)"
   ]
  },
  {
   "cell_type": "code",
   "execution_count": null,
   "metadata": {
    "colab": {},
    "colab_type": "code",
    "id": "-wdouybX70Rr"
   },
   "outputs": [],
   "source": [
    "mean_average_precision_popreg = 0.0068433079058005915"
   ]
  },
  {
   "cell_type": "markdown",
   "metadata": {
    "colab_type": "text",
    "id": "hKZ-yAQh2LoB"
   },
   "source": [
    "### Рекомендуем 10 самых популярных продуктов среди 10 похожих покупателей"
   ]
  },
  {
   "cell_type": "code",
   "execution_count": 79,
   "metadata": {
    "colab": {
     "base_uri": "https://localhost:8080/",
     "height": 51
    },
    "colab_type": "code",
    "executionInfo": {
     "elapsed": 1296634,
     "status": "ok",
     "timestamp": 1593716608263,
     "user": {
      "displayName": "Алексей Андреевич Тышко",
      "photoUrl": "",
      "userId": "10250502674400601502"
     },
     "user_tz": -180
    },
    "id": "UlWUSJZJY5nq",
    "outputId": "8888c4eb-6f64-423f-d796-1a21a27224f4"
   },
   "outputs": [
    {
     "name": "stderr",
     "output_type": "stream",
     "text": [
      "100%|██████████| 12398/12398 [21:36<00:00,  9.57it/s]"
     ]
    },
    {
     "name": "stdout",
     "output_type": "stream",
     "text": [
      "0.0020881942415210313\n"
     ]
    },
    {
     "name": "stderr",
     "output_type": "stream",
     "text": [
      "\n"
     ]
    }
   ],
   "source": [
    "mean_av_prec = 0\n",
    "total = 0\n",
    "\n",
    "for line in tqdm(test_df.values, position=0):\n",
    "    \n",
    "    user_id, bought_products, user_region, user_total_buy, user_dif_cat = line\n",
    "    \n",
    "    temp_df = train_df[(train_df['label'] == 1) & (train_df['user_id'] != user_id)]\n",
    "    \n",
    "    nn = NearestNeighbors(10)\n",
    "    nn_df = temp_df.drop_duplicates('user_id')\n",
    "    nn.fit(nn_df[['user_total_buy', 'user_dif_cat']].values)\n",
    "    \n",
    "    _, nearest_indexes = nn.kneighbors(np.reshape([user_total_buy, user_dif_cat], (1, 2)))\n",
    "    \n",
    "    closest_users_arr = nn_df.iloc[nearest_indexes[0], 0].values\n",
    "    closest_users = temp_df[temp_df['user_id'].isin(closest_users_arr)]\n",
    "    popular_products = closest_users.groupby('product_id')['product_id'].count().to_frame('popular_products').reset_index()\n",
    "    recommended_prods = popular_products.sort_values('popular_products', ascending=False)['product_id'].values[:10]\n",
    "    \n",
    "    mean_av_prec += average_precision(bought_products, recommended_prods, 10)\n",
    "    total += 1\n",
    "\n",
    "print('\\n')\n",
    "print(mean_av_prec/total)"
   ]
  },
  {
   "cell_type": "code",
   "execution_count": null,
   "metadata": {
    "colab": {},
    "colab_type": "code",
    "id": "wEJeCGca7wuQ"
   },
   "outputs": [],
   "source": [
    "mean_average_precision_nn = 0.0020881942415210313"
   ]
  },
  {
   "cell_type": "markdown",
   "metadata": {
    "colab_type": "text",
    "id": "imjBDSlA6xKV"
   },
   "source": [
    "### Рекомендуем 10 случайных продуктов"
   ]
  },
  {
   "cell_type": "code",
   "execution_count": 82,
   "metadata": {
    "colab": {
     "base_uri": "https://localhost:8080/",
     "height": 85
    },
    "colab_type": "code",
    "executionInfo": {
     "elapsed": 6785,
     "status": "ok",
     "timestamp": 1593716875103,
     "user": {
      "displayName": "Алексей Андреевич Тышко",
      "photoUrl": "",
      "userId": "10250502674400601502"
     },
     "user_tz": -180
    },
    "id": "cCK8d1r7x7YW",
    "outputId": "bd52ae21-b7f2-4a62-ccb3-c8410dfca4ed"
   },
   "outputs": [
    {
     "name": "stderr",
     "output_type": "stream",
     "text": [
      "100%|██████████| 12398/12398 [00:05<00:00, 2155.42it/s]"
     ]
    },
    {
     "name": "stdout",
     "output_type": "stream",
     "text": [
      "\n",
      "\n",
      "0.0001328935947194941\n"
     ]
    },
    {
     "name": "stderr",
     "output_type": "stream",
     "text": [
      "\n"
     ]
    }
   ],
   "source": [
    "np.random.seed(432)\n",
    "\n",
    "mean_av_prec = 0\n",
    "total = 0\n",
    "\n",
    "for line in tqdm(test_df.values, position=0):\n",
    "    recommended_prods = np.random.choice(all_prods['product_id'].values, 10, replace=False)\n",
    "    user_id, bought_products, user_region, user_total_buy, user_dif_cat = line\n",
    "    \n",
    "    mean_av_prec += average_precision(bought_products, recommended_prods, 10)\n",
    "    total += 1\n",
    "\n",
    "print('\\n')\n",
    "print(mean_av_prec/total)"
   ]
  },
  {
   "cell_type": "code",
   "execution_count": null,
   "metadata": {
    "colab": {},
    "colab_type": "code",
    "id": "z3Y3O84CXymw"
   },
   "outputs": [],
   "source": [
    "mean_average_precision_random = 0.0001328935947194941"
   ]
  },
  {
   "cell_type": "markdown",
   "metadata": {},
   "source": [
    "### Выводы"
   ]
  },
  {
   "cell_type": "markdown",
   "metadata": {},
   "source": [
    "Обученная модель оказалась несостоятельной, причины могут быть разные, возможно недостаточно большой датасет, либо сгенерирпованные признаки получились абсолютно незначимыми."
   ]
  },
  {
   "cell_type": "code",
   "execution_count": null,
   "metadata": {},
   "outputs": [],
   "source": []
  }
 ],
 "metadata": {
  "colab": {
   "authorship_tag": "ABX9TyMW3hWTuIGKnq8ChhH3dAVo",
   "collapsed_sections": [
    "lrGUL41ACjVH",
    "w-H8DVECG5ZF"
   ],
   "name": "Project.ipynb",
   "provenance": []
  },
  "kernelspec": {
   "display_name": "Python 3",
   "language": "python",
   "name": "python3"
  },
  "language_info": {
   "codemirror_mode": {
    "name": "ipython",
    "version": 3
   },
   "file_extension": ".py",
   "mimetype": "text/x-python",
   "name": "python",
   "nbconvert_exporter": "python",
   "pygments_lexer": "ipython3",
   "version": "3.7.4"
  }
 },
 "nbformat": 4,
 "nbformat_minor": 1
}
